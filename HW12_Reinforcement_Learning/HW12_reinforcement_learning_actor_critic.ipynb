{
  "cells": [
    {
      "cell_type": "markdown",
      "metadata": {
        "id": "Fp30SB4bxeQb"
      },
      "source": [
        "# **Homework 12 - Reinforcement Learning**\n",
        "\n",
        "If you have any problem, e-mail us at ntu-ml-2021spring-ta@googlegroups.com\n",
        "\n"
      ]
    },
    {
      "cell_type": "markdown",
      "metadata": {},
      "source": [
        "# Reference - Copyright #\n",
        "This code references the follwing githib, please follow its BSD License rules:\n",
        "\n",
        "nikhilbarhate99 : https://github.com/nikhilbarhate99/Actor-Critic-PyTorch/blob/master/LICENSE\n",
        "\n",
        "BSD 3-Clause License\n",
        "\n",
        "Copyright (c) 2018,\n",
        "All rights reserved.\n",
        "\n",
        "Redistribution and use in source and binary forms, with or without\n",
        "modification, are permitted provided that the following conditions are met:\n",
        "\n",
        "* Redistributions of source code must retain the above copyright notice, this\n",
        "  list of conditions and the following disclaimer.\n",
        "\n",
        "* Redistributions in binary form must reproduce the above copyright notice,\n",
        "  this list of conditions and the following disclaimer in the documentation\n",
        "  and/or other materials provided with the distribution.\n",
        "\n",
        "* Neither the name of the copyright holder nor the names of its\n",
        "  contributors may be used to endorse or promote products derived from\n",
        "  this software without specific prior written permission.\n"
      ]
    },
    {
      "cell_type": "markdown",
      "metadata": {
        "id": "yXsnCWPtWSNk"
      },
      "source": [
        "## Preliminary work\n",
        "\n",
        "First, we need to install all necessary packages.\n",
        "One of them, gym, builded by OpenAI, is a toolkit for developing Reinforcement Learning algorithm. Other packages are for visualization in colab."
      ]
    },
    {
      "cell_type": "code",
      "execution_count": 1,
      "metadata": {
        "colab": {
          "base_uri": "https://localhost:8080/"
        },
        "id": "5e2bScpnkVbv",
        "outputId": "52198e39-e2a2-4ea2-a1f3-4ba9545476d7"
      },
      "outputs": [
        {
          "name": "stdout",
          "output_type": "stream",
          "text": [
            "Reading package lists... Done\n",
            "\u001b[1;31mE: \u001b[0mCould not open lock file /var/lib/apt/lists/lock - open (13: Permission denied)\u001b[0m\n",
            "\u001b[1;31mE: \u001b[0mUnable to lock directory /var/lib/apt/lists/\u001b[0m\n",
            "\u001b[1;33mW: \u001b[0mProblem unlinking the file /var/cache/apt/pkgcache.bin - RemoveCaches (13: Permission denied)\u001b[0m\n",
            "\u001b[1;33mW: \u001b[0mProblem unlinking the file /var/cache/apt/srcpkgcache.bin - RemoveCaches (13: Permission denied)\u001b[0m\n",
            "\u001b[1;31mE: \u001b[0mCould not open lock file /var/lib/dpkg/lock-frontend - open (13: Permission denied)\u001b[0m\n",
            "\u001b[1;31mE: \u001b[0mUnable to acquire the dpkg frontend lock (/var/lib/dpkg/lock-frontend), are you root?\u001b[0m\n",
            "/usr/lib/python3/dist-packages/secretstorage/dhcrypto.py:15: CryptographyDeprecationWarning: int_from_bytes is deprecated, use int.from_bytes instead\n",
            "  from cryptography.utils import int_from_bytes\n",
            "/usr/lib/python3/dist-packages/secretstorage/util.py:19: CryptographyDeprecationWarning: int_from_bytes is deprecated, use int.from_bytes instead\n",
            "  from cryptography.utils import int_from_bytes\n",
            "Requirement already satisfied: gym[box2d]==0.18.3 in /home/siensien/.local/lib/python3.8/site-packages (0.18.3)\n",
            "Requirement already satisfied: pyvirtualdisplay in /home/siensien/.local/lib/python3.8/site-packages (3.0)\n",
            "Requirement already satisfied: tqdm in /home/siensien/.local/lib/python3.8/site-packages (4.63.1)\n",
            "Requirement already satisfied: numpy==1.19.5 in /home/siensien/.local/lib/python3.8/site-packages (1.19.5)\n",
            "Requirement already satisfied: torch==1.8.1 in /home/siensien/.local/lib/python3.8/site-packages (1.8.1)\n",
            "Requirement already satisfied: scipy in /home/siensien/.local/lib/python3.8/site-packages (from gym[box2d]==0.18.3) (1.8.0)\n",
            "Requirement already satisfied: cloudpickle<1.7.0,>=1.2.0 in /home/siensien/.local/lib/python3.8/site-packages (from gym[box2d]==0.18.3) (1.6.0)\n",
            "Requirement already satisfied: pyglet<=1.5.15,>=1.4.0 in /home/siensien/.local/lib/python3.8/site-packages (from gym[box2d]==0.18.3) (1.5.15)\n",
            "Requirement already satisfied: Pillow<=8.2.0 in /usr/lib/python3/dist-packages (from gym[box2d]==0.18.3) (7.0.0)\n",
            "Requirement already satisfied: box2d-py~=2.3.5; extra == \"box2d\" in /home/siensien/.local/lib/python3.8/site-packages (from gym[box2d]==0.18.3) (2.3.8)\n",
            "Requirement already satisfied: typing-extensions in /home/siensien/.local/lib/python3.8/site-packages (from torch==1.8.1) (4.1.1)\n"
          ]
        }
      ],
      "source": [
        "!apt update\n",
        "!apt install python-opengl xvfb -y\n",
        "!pip install gym[box2d]==0.18.3 pyvirtualdisplay tqdm numpy==1.19.5 torch==1.8.1"
      ]
    },
    {
      "cell_type": "markdown",
      "metadata": {
        "id": "M_-i3cdoYsks"
      },
      "source": [
        "\n",
        "Next, set up virtual display，and import all necessaary packages."
      ]
    },
    {
      "cell_type": "code",
      "execution_count": 2,
      "metadata": {
        "id": "nl2nREINDLiw"
      },
      "outputs": [],
      "source": [
        "%%capture\n",
        "from pyvirtualdisplay import Display\n",
        "virtual_display = Display(visible=0, size=(1400, 900))\n",
        "virtual_display.start()\n",
        "\n",
        "%matplotlib inline\n",
        "import matplotlib.pyplot as plt\n",
        "\n",
        "from IPython import display\n",
        "\n",
        "import numpy as np\n",
        "import torch\n",
        "import torch.nn as nn\n",
        "import torch.optim as optim\n",
        "import torch.nn.functional as F\n",
        "from torch.distributions import Categorical\n",
        "from tqdm.notebook import tqdm"
      ]
    },
    {
      "cell_type": "markdown",
      "metadata": {
        "id": "CaEJ8BUCpN9P"
      },
      "source": [
        "# Warning ! Do not revise random seed !!!\n",
        "# Your submission on JudgeBoi will not reproduce your result !!!\n",
        "Make your HW result to be reproducible.\n"
      ]
    },
    {
      "cell_type": "code",
      "execution_count": 3,
      "metadata": {
        "id": "fV9i8i2YkRbO"
      },
      "outputs": [],
      "source": [
        "seed = 543 # Do not change this\n",
        "def fix(env, seed):\n",
        "  env.seed(seed)\n",
        "  env.action_space.seed(seed)\n",
        "  torch.manual_seed(seed)\n",
        "  torch.cuda.manual_seed(seed)\n",
        "  torch.cuda.manual_seed_all(seed)\n",
        "  np.random.seed(seed)\n",
        "  random.seed(seed)\n",
        "  torch.set_deterministic(True)\n",
        "  torch.backends.cudnn.benchmark = False\n",
        "  torch.backends.cudnn.deterministic = True"
      ]
    },
    {
      "cell_type": "markdown",
      "metadata": {
        "id": "He0XDx6bzjgC"
      },
      "source": [
        "Last, call gym and build an [Lunar Lander](https://gym.openai.com/envs/LunarLander-v2/) environment."
      ]
    },
    {
      "cell_type": "code",
      "execution_count": 4,
      "metadata": {
        "id": "N_4-xJcbBt09"
      },
      "outputs": [],
      "source": [
        "%%capture\n",
        "import gym\n",
        "import random\n",
        "env = gym.make('LunarLander-v2')\n",
        "fix(env, seed) # fix the environment Do not revise this !!!"
      ]
    },
    {
      "cell_type": "markdown",
      "metadata": {
        "id": "NrkVvTrvWZ5H"
      },
      "source": [
        "## What Lunar Lander？\n",
        "\n",
        "“LunarLander-v2”is to simulate the situation when the craft lands on the surface of the moon.\n",
        "\n",
        "This task is to enable the craft to land \"safely\" at the pad between the two yellow flags.\n",
        "> Landing pad is always at coordinates (0,0).\n",
        "> Coordinates are the first two numbers in state vector.\n",
        "\n",
        "![](https://gym.openai.com/assets/docs/aeloop-138c89d44114492fd02822303e6b4b07213010bb14ca5856d2d49d6b62d88e53.svg)\n",
        "\n",
        "\"LunarLander-v2\" actually includes \"Agent\" and \"Environment\". \n",
        "\n",
        "In this homework, we will utilize the function `step()` to control the action of \"Agent\". \n",
        "\n",
        "Then `step()` will return the observation/state and reward given by the \"Environment\"."
      ]
    },
    {
      "cell_type": "markdown",
      "metadata": {
        "id": "bIbp82sljvAt"
      },
      "source": [
        "### Observation / State\n",
        "\n",
        "First, we can take a look at what an Observation / State looks like."
      ]
    },
    {
      "cell_type": "code",
      "execution_count": 5,
      "metadata": {
        "colab": {
          "base_uri": "https://localhost:8080/"
        },
        "id": "rsXZra3N9R5T",
        "outputId": "a36868de-bbbc-4de9-815b-0b43fc012c96"
      },
      "outputs": [
        {
          "name": "stdout",
          "output_type": "stream",
          "text": [
            "Box(-inf, inf, (8,), float32)\n"
          ]
        }
      ],
      "source": [
        "print(env.observation_space)"
      ]
    },
    {
      "cell_type": "markdown",
      "metadata": {
        "id": "ezdfoThbAQ49"
      },
      "source": [
        "\n",
        "`Box(8,)`means that observation is an 8-dim vector\n",
        "### Action\n",
        "\n",
        "Actions can be taken by looks like"
      ]
    },
    {
      "cell_type": "code",
      "execution_count": 6,
      "metadata": {
        "colab": {
          "base_uri": "https://localhost:8080/"
        },
        "id": "p1k4dIrBAaKi",
        "outputId": "80c453ee-539f-4e40-c5d8-8e9dc8fffaef"
      },
      "outputs": [
        {
          "name": "stdout",
          "output_type": "stream",
          "text": [
            "Discrete(4)\n"
          ]
        }
      ],
      "source": [
        "print(env.action_space)"
      ]
    },
    {
      "cell_type": "markdown",
      "metadata": {
        "id": "dejXT6PHBrPn"
      },
      "source": [
        "`Discrete(4)` implies that there are four kinds of actions can be taken by agent.\n",
        "- 0 implies the agent will not take any actions\n",
        "- 2 implies the agent will accelerate downward\n",
        "- 1, 3 implies the agent will accelerate left and right\n",
        "\n",
        "Next, we will try to make the agent interact with the environment. \n",
        "Before taking any actions, we recommend to call `reset()` function to reset the environment. Also, this function will return the initial state of the environment."
      ]
    },
    {
      "cell_type": "code",
      "execution_count": 7,
      "metadata": {
        "colab": {
          "base_uri": "https://localhost:8080/"
        },
        "id": "pi4OmrmZgnWA",
        "outputId": "2635bdfb-a4dc-442b-a21a-f57af67edc4b"
      },
      "outputs": [
        {
          "name": "stdout",
          "output_type": "stream",
          "text": [
            "[ 0.00396109  1.4083536   0.40119505 -0.11407257 -0.00458307 -0.09087662\n",
            "  0.          0.        ]\n"
          ]
        }
      ],
      "source": [
        "initial_state = env.reset()\n",
        "print(initial_state)"
      ]
    },
    {
      "cell_type": "markdown",
      "metadata": {
        "id": "uBx0mEqqgxJ9"
      },
      "source": [
        "Then, we try to get a random action from the agent's action space."
      ]
    },
    {
      "cell_type": "code",
      "execution_count": 8,
      "metadata": {
        "colab": {
          "base_uri": "https://localhost:8080/"
        },
        "id": "vxkOEXRKgizt",
        "outputId": "de93c740-f01c-464e-f436-a2b59e7dc7e5"
      },
      "outputs": [
        {
          "name": "stdout",
          "output_type": "stream",
          "text": [
            "0\n"
          ]
        }
      ],
      "source": [
        "random_action = env.action_space.sample()\n",
        "print(random_action)"
      ]
    },
    {
      "cell_type": "markdown",
      "metadata": {
        "id": "mns-bO01g0-J"
      },
      "source": [
        "More, we can utilize `step()` to make agent act according to the randomly-selected `random_action`.\n",
        "The `step()` function will return four values:\n",
        "- observation / state\n",
        "- reward\n",
        "- done (True/ False)\n",
        "- Other information"
      ]
    },
    {
      "cell_type": "code",
      "execution_count": 9,
      "metadata": {
        "id": "E_WViSxGgIk9"
      },
      "outputs": [],
      "source": [
        "observation, reward, done, info = env.step(random_action)"
      ]
    },
    {
      "cell_type": "code",
      "execution_count": 10,
      "metadata": {
        "colab": {
          "base_uri": "https://localhost:8080/"
        },
        "id": "yK7r126kuCNp",
        "outputId": "2f3363d9-5bc3-4ba5-86f2-1c4abc89f179"
      },
      "outputs": [
        {
          "name": "stdout",
          "output_type": "stream",
          "text": [
            "False\n"
          ]
        }
      ],
      "source": [
        "print(done)"
      ]
    },
    {
      "cell_type": "markdown",
      "metadata": {
        "id": "GKdS8vOihxhc"
      },
      "source": [
        "### Reward\n",
        "\n",
        "\n",
        "> Landing pad is always at coordinates (0,0). Coordinates are the first two numbers in state vector. Reward for moving from the top of the screen to landing pad and zero speed is about 100..140 points. If lander moves away from landing pad it loses reward back. Episode finishes if the lander crashes or comes to rest, receiving additional -100 or +100 points. Each leg ground contact is +10. Firing main engine is -0.3 points each frame. Solved is 200 points. "
      ]
    },
    {
      "cell_type": "code",
      "execution_count": 11,
      "metadata": {
        "colab": {
          "base_uri": "https://localhost:8080/"
        },
        "id": "vxQNs77hi0_7",
        "outputId": "4633d678-be4f-4f52-8f91-1b6681642580"
      },
      "outputs": [
        {
          "name": "stdout",
          "output_type": "stream",
          "text": [
            "-0.8588845024543161\n"
          ]
        }
      ],
      "source": [
        "print(reward)"
      ]
    },
    {
      "cell_type": "markdown",
      "metadata": {
        "id": "Mhqp6D-XgHpe"
      },
      "source": [
        "### Random Agent\n",
        "In the end, before we start training, we can see whether a random agent can successfully land the moon or not."
      ]
    },
    {
      "cell_type": "code",
      "execution_count": 12,
      "metadata": {
        "colab": {
          "base_uri": "https://localhost:8080/",
          "height": 269
        },
        "id": "Y3G0bxoccelv",
        "outputId": "11ad28c1-058b-4243-bf35-1fdfbb60be9e"
      },
      "outputs": [
        {
          "data": {
            "text/plain": [
              "\"\\nenv.reset()\\n\\nimg = plt.imshow(env.render(mode='rgb_array'))\\n\\ndone = False\\nwhile not done:\\n    action = env.action_space.sample()\\n    observation, reward, done, _ = env.step(action)\\n\\n    img.set_data(env.render(mode='rgb_array'))\\n    display.display(plt.gcf())\\n    display.clear_output(wait=True)\\n\""
            ]
          },
          "execution_count": 12,
          "metadata": {},
          "output_type": "execute_result"
        }
      ],
      "source": [
        "'''\n",
        "env.reset()\n",
        "\n",
        "img = plt.imshow(env.render(mode='rgb_array'))\n",
        "\n",
        "done = False\n",
        "while not done:\n",
        "    action = env.action_space.sample()\n",
        "    observation, reward, done, _ = env.step(action)\n",
        "\n",
        "    img.set_data(env.render(mode='rgb_array'))\n",
        "    display.display(plt.gcf())\n",
        "    display.clear_output(wait=True)\n",
        "'''"
      ]
    },
    {
      "cell_type": "markdown",
      "metadata": {
        "id": "F5paWqo7tWL2"
      },
      "source": [
        "## Actor-Critic\n",
        "Now, we can build a simple actor-critic network. The network will return one of action in the action space."
      ]
    },
    {
      "cell_type": "code",
      "execution_count": 13,
      "metadata": {
        "id": "J8tdmeD-tZew"
      },
      "outputs": [],
      "source": [
        "class ActorCritic(nn.Module):\n",
        "    def __init__(self):\n",
        "        super(ActorCritic, self).__init__()\n",
        "        # get in put from the 8 state info\n",
        "        self.affine = nn.Linear(8, 128)\n",
        "        \n",
        "        # actor network\n",
        "        self.action_layer = nn.Linear(128, 4)\n",
        "        # value network \n",
        "        self.value_layer = nn.Linear(128, 1)\n",
        "        \n",
        "        self.logprobs = []\n",
        "        self.state_values = []\n",
        "        self.rewards = []\n",
        "\n",
        "    def forward(self, state):\n",
        "        state = torch.from_numpy(state)\n",
        "        state = F.relu(self.affine(state))\n",
        "        \n",
        "        state_value = self.value_layer(state)\n",
        "        \n",
        "        action_probs = F.softmax(self.action_layer(state), -1)\n",
        "        action_distribution = Categorical(action_probs)\n",
        "        action = action_distribution.sample()\n",
        "        \n",
        "        self.logprobs.append(action_distribution.log_prob(action))\n",
        "        self.state_values.append(state_value)\n",
        "        \n",
        "        return action.item()\n",
        "    \n",
        "    def calculateLoss(self, gamma=0.99):\n",
        "        \n",
        "        # calculating discounted rewards:\n",
        "        rewards = []\n",
        "        dis_reward = 0\n",
        "        # from last to first to update the Q-function\n",
        "        for reward in self.rewards[::-1]:\n",
        "            dis_reward = reward + gamma * dis_reward\n",
        "            rewards.insert(0, dis_reward)\n",
        "                \n",
        "        # normalizing the rewards:\n",
        "        rewards = torch.tensor(rewards).float()\n",
        "        rewards = (rewards - rewards.mean()) / (rewards.std())\n",
        "        \n",
        "        loss = 0\n",
        "        for logprob, value, reward in zip(self.logprobs, self.state_values, rewards):\n",
        "            # advantage = TD loss\n",
        "            advantage = reward  - value.item()\n",
        "            action_loss = -logprob * advantage\n",
        "            value_loss = F.smooth_l1_loss(value, reward)\n",
        "            loss += (action_loss + value_loss)   \n",
        "        return loss\n",
        "    \n",
        "    def clearMemory(self):\n",
        "        del self.logprobs[:]\n",
        "        del self.state_values[:]\n",
        "        del self.rewards[:]\n"
      ]
    },
    {
      "cell_type": "markdown",
      "metadata": {
        "id": "ouv23glgf5Qt"
      },
      "source": [
        "## Trainin Agent\n",
        "\n",
        "Now let's start to train our agent.\n",
        "Through taking all the interactions between agent and environment as training data, the policy network can learn from all these attempts,"
      ]
    },
    {
      "cell_type": "code",
      "execution_count": 14,
      "metadata": {
        "colab": {
          "base_uri": "https://localhost:8080/",
          "height": 1000,
          "referenced_widgets": [
            "de3a153737af485ea436d7e8393d8248",
            "6345f8926212465291c04587353161f1",
            "3aa84c8c097d4858a0c38f18dec8b060",
            "6647e68cf064416ca593b990bed81edf",
            "a25de7edbbee47cc8094f43125efa39b",
            "a0bb5061ca0946ab89a89f9abadcebc8",
            "d99d8e6bcbe0445eb7eddbfe31277635",
            "5af1c6579f0f4c2eb03df4063749569e"
          ]
        },
        "id": "vg5rxBBaf38_",
        "outputId": "a1b06e39-99d6-4233-eda0-a3d58e77ffed"
      },
      "outputs": [
        {
          "name": "stdout",
          "output_type": "stream",
          "text": [
            "0.02 (0.9, 0.999)\n",
            "Episode 0\tlength: 69\tavg reward: -5.056888002199907\n"
          ]
        },
        {
          "name": "stderr",
          "output_type": "stream",
          "text": [
            "<ipython-input-13-9f590d02ea27>:50: UserWarning: Using a target size (torch.Size([])) that is different to the input size (torch.Size([1])). This will likely lead to incorrect results due to broadcasting. Please ensure they have the same size.\n",
            "  value_loss = F.smooth_l1_loss(value, reward)\n"
          ]
        },
        {
          "name": "stdout",
          "output_type": "stream",
          "text": [
            "Episode 20\tlength: 110\tavg reward: -307.42122436970055\n",
            "Episode 40\tlength: 104\tavg reward: -175.477151755153\n",
            "Episode 60\tlength: 88\tavg reward: -336.10150854488575\n",
            "Solved model, episode : 61, current best reward = 20.860058222250174\n",
            "Episode 80\tlength: 103\tavg reward: -274.5934946420132\n",
            "Solved model, episode : 91, current best reward = 40.59286688704566\n",
            "Episode 100\tlength: 88\tavg reward: -248.8138135394707\n",
            "Episode 120\tlength: 188\tavg reward: -354.0380973385119\n",
            "Episode 140\tlength: 125\tavg reward: -436.9973233047505\n",
            "Episode 160\tlength: 87\tavg reward: -233.94848610584214\n",
            "Episode 180\tlength: 357\tavg reward: -401.3350126282418\n",
            "Episode 200\tlength: 145\tavg reward: -323.16254596183137\n",
            "Episode 220\tlength: 115\tavg reward: -118.82696820635044\n",
            "Episode 240\tlength: 77\tavg reward: -78.10249629566586\n",
            "Episode 260\tlength: 89\tavg reward: -105.73863192558558\n",
            "Episode 280\tlength: 126\tavg reward: -137.0991938917173\n",
            "Episode 300\tlength: 92\tavg reward: -24.41461653479395\n",
            "Episode 320\tlength: 86\tavg reward: -40.07400029959383\n",
            "Episode 340\tlength: 61\tavg reward: -75.2174170481968\n",
            "Episode 360\tlength: 681\tavg reward: -36.928724850745226\n",
            "Solved model, episode : 369, current best reward = 53.34755834926659\n",
            "Episode 380\tlength: 132\tavg reward: -55.321184482194816\n",
            "Episode 400\tlength: 70\tavg reward: -79.96607404747525\n",
            "Episode 420\tlength: 77\tavg reward: -98.95341497360701\n",
            "Solved model, episode : 428, current best reward = 63.164180946948704\n",
            "Episode 440\tlength: 275\tavg reward: -64.77138167025784\n",
            "Episode 460\tlength: 111\tavg reward: -77.04384988267243\n",
            "Episode 480\tlength: 126\tavg reward: -98.73516986469348\n",
            "Episode 500\tlength: 147\tavg reward: -117.53131353738202\n",
            "Episode 520\tlength: 999\tavg reward: -124.280716259418\n",
            "Episode 540\tlength: 999\tavg reward: -65.77621620184637\n",
            "Episode 560\tlength: 122\tavg reward: -48.25010359435846\n",
            "Episode 580\tlength: 82\tavg reward: -78.68602815615749\n",
            "Episode 600\tlength: 128\tavg reward: -76.91143484686634\n",
            "Episode 620\tlength: 115\tavg reward: -34.71688547519783\n",
            "Episode 640\tlength: 672\tavg reward: -96.9426508705986\n",
            "Episode 660\tlength: 999\tavg reward: -77.9783907721771\n",
            "Episode 680\tlength: 999\tavg reward: -50.80395673005086\n",
            "Solved model, episode : 694, current best reward = 74.1246202552833\n",
            "Episode 700\tlength: 72\tavg reward: 9.20658118690098\n",
            "Solved model, episode : 711, current best reward = 92.56408702953912\n",
            "Episode 720\tlength: 113\tavg reward: -6.075421132460174\n",
            "Episode 740\tlength: 76\tavg reward: -5.112126268946311\n",
            "Episode 760\tlength: 84\tavg reward: -14.236925836352508\n",
            "Episode 780\tlength: 118\tavg reward: -22.506435940484543\n",
            "Episode 800\tlength: 64\tavg reward: -2.2273316716498583\n",
            "Episode 820\tlength: 88\tavg reward: -1.7299636549557156\n",
            "Solved model, episode : 826, current best reward = 95.90105792970978\n",
            "Solved model, episode : 840, current best reward = 241.14044397565573\n",
            "Episode 840\tlength: 335\tavg reward: 14.214363784054262\n",
            "Episode 860\tlength: 999\tavg reward: 35.789151694001575\n",
            "Episode 880\tlength: 145\tavg reward: 24.29251771180256\n",
            "Solved model, episode : 888, current best reward = 266.66860775387215\n",
            "Episode 900\tlength: 107\tavg reward: 39.9714062092133\n",
            "Solved model, episode : 913, current best reward = 269.3883930987272\n",
            "Episode 920\tlength: 138\tavg reward: 16.08218661040919\n",
            "Episode 940\tlength: 107\tavg reward: 72.76700424326489\n",
            "Episode 960\tlength: 113\tavg reward: 46.18801056488445\n",
            "Episode 980\tlength: 999\tavg reward: 69.91133168938174\n",
            "Episode 1000\tlength: 689\tavg reward: 17.27491954551721\n",
            "Episode 1020\tlength: 96\tavg reward: 31.530900925399372\n",
            "Episode 1040\tlength: 87\tavg reward: 32.48532254629845\n",
            "Episode 1060\tlength: 343\tavg reward: 67.4133714831489\n",
            "Episode 1080\tlength: 618\tavg reward: 63.88636305972951\n",
            "Episode 1100\tlength: 141\tavg reward: 33.42815516959646\n",
            "Episode 1120\tlength: 132\tavg reward: 44.794736240263816\n",
            "Episode 1140\tlength: 82\tavg reward: 35.96496698444032\n",
            "Solved model, episode : 1144, current best reward = 271.73675483050016\n",
            "Solved model, episode : 1148, current best reward = 277.20336253713776\n",
            "Episode 1160\tlength: 316\tavg reward: 10.97846051340648\n",
            "Episode 1180\tlength: 219\tavg reward: -14.255545527817763\n",
            "Episode 1200\tlength: 150\tavg reward: -61.125847203228695\n",
            "Episode 1220\tlength: 215\tavg reward: -108.41652366972266\n",
            "Episode 1240\tlength: 219\tavg reward: -64.25122858323746\n",
            "Episode 1260\tlength: 353\tavg reward: -9.917152360292258\n",
            "Episode 1280\tlength: 300\tavg reward: 37.42529244652194\n",
            "Episode 1300\tlength: 345\tavg reward: 21.960526777269088\n",
            "Episode 1320\tlength: 217\tavg reward: -12.302580813519807\n",
            "Episode 1340\tlength: 133\tavg reward: 61.56425821100155\n",
            "Episode 1360\tlength: 320\tavg reward: 50.61996992273582\n",
            "Episode 1380\tlength: 100\tavg reward: 72.45166760493024\n",
            "Solved model, episode : 1387, current best reward = 294.792312429362\n",
            "Episode 1400\tlength: 999\tavg reward: 147.69301709854994\n",
            "Episode 1420\tlength: 107\tavg reward: 137.73495529042728\n",
            "Episode 1440\tlength: 649\tavg reward: 77.50561929531864\n",
            "Episode 1460\tlength: 999\tavg reward: 77.29953707526973\n",
            "Episode 1480\tlength: 81\tavg reward: 77.25199314123388\n",
            "Episode 1500\tlength: 122\tavg reward: 33.047621557846206\n",
            "Episode 1520\tlength: 93\tavg reward: 0.32520972041384794\n",
            "Episode 1540\tlength: 89\tavg reward: -116.24609391023782\n",
            "Episode 1560\tlength: 99\tavg reward: -107.08435104162645\n",
            "Episode 1580\tlength: 67\tavg reward: -78.92270340897312\n",
            "Episode 1600\tlength: 121\tavg reward: -45.150255369981345\n",
            "Episode 1620\tlength: 89\tavg reward: -21.655241581893712\n",
            "Episode 1640\tlength: 543\tavg reward: 74.27094261248621\n",
            "Episode 1660\tlength: 366\tavg reward: 35.88718271462204\n",
            "Episode 1680\tlength: 465\tavg reward: 55.45260262087542\n",
            "Solved model, episode : 1685, current best reward = 299.3939523750478\n",
            "Episode 1700\tlength: 298\tavg reward: 130.30325104702223\n",
            "Episode 1720\tlength: 999\tavg reward: -13.74251056989658\n",
            "Episode 1740\tlength: 999\tavg reward: -71.2945499002606\n",
            "Episode 1760\tlength: 999\tavg reward: -0.7839653022605086\n",
            "Episode 1780\tlength: 263\tavg reward: 96.67066138412898\n",
            "Episode 1800\tlength: 382\tavg reward: 110.27493895799061\n",
            "Episode 1820\tlength: 998\tavg reward: 92.82239431382176\n",
            "Episode 1840\tlength: 999\tavg reward: 67.8856180670194\n",
            "Episode 1860\tlength: 213\tavg reward: 50.42504133082735\n",
            "Episode 1880\tlength: 102\tavg reward: 35.364824575816165\n",
            "Episode 1900\tlength: 999\tavg reward: 114.45744119660355\n",
            "Episode 1920\tlength: 118\tavg reward: 82.31599679278155\n",
            "Episode 1940\tlength: 85\tavg reward: 63.818189602727315\n",
            "Episode 1960\tlength: 172\tavg reward: 23.901756406892662\n",
            "Episode 1980\tlength: 100\tavg reward: -2.932256001982841\n",
            "Episode 2000\tlength: 115\tavg reward: 9.471884152398298\n",
            "Episode 2020\tlength: 124\tavg reward: 9.705510411933773\n",
            "Episode 2040\tlength: 112\tavg reward: 28.568504736636395\n",
            "Episode 2060\tlength: 95\tavg reward: 34.697465641859516\n",
            "Episode 2080\tlength: 94\tavg reward: 43.2263664301476\n",
            "Episode 2100\tlength: 117\tavg reward: 48.20405611127795\n",
            "Episode 2120\tlength: 117\tavg reward: 35.63022824098637\n",
            "Episode 2140\tlength: 115\tavg reward: 65.51866933005512\n",
            "Episode 2160\tlength: 122\tavg reward: 68.3537673709836\n",
            "Episode 2180\tlength: 999\tavg reward: 106.15858045496626\n",
            "Episode 2200\tlength: 999\tavg reward: 123.67989934339157\n",
            "Episode 2220\tlength: 999\tavg reward: 64.9100137396391\n",
            "Episode 2240\tlength: 999\tavg reward: 117.75287867212133\n",
            "Episode 2260\tlength: 999\tavg reward: 125.93999778853811\n",
            "Episode 2280\tlength: 999\tavg reward: 142.77224466634158\n",
            "Episode 2300\tlength: 999\tavg reward: 148.606851320447\n",
            "Episode 2320\tlength: 999\tavg reward: 149.33828414086832\n",
            "Episode 2340\tlength: 999\tavg reward: 146.6619128324297\n",
            "Episode 2360\tlength: 76\tavg reward: 48.12314069854574\n",
            "Episode 2380\tlength: 65\tavg reward: -8.942132640528303\n",
            "Episode 2400\tlength: 90\tavg reward: -25.884396401183693\n",
            "Episode 2420\tlength: 72\tavg reward: -23.756188905833614\n",
            "Episode 2440\tlength: 96\tavg reward: -29.415351484102985\n",
            "Episode 2460\tlength: 82\tavg reward: -25.85905434617473\n",
            "Episode 2480\tlength: 82\tavg reward: -18.607267637865128\n",
            "Episode 2500\tlength: 92\tavg reward: -1.358729609013892\n",
            "Episode 2520\tlength: 68\tavg reward: -7.115432834997615\n",
            "Episode 2540\tlength: 69\tavg reward: -21.154999142157855\n",
            "Episode 2560\tlength: 128\tavg reward: -16.772676593227878\n",
            "Episode 2580\tlength: 93\tavg reward: -6.0550820542032735\n",
            "Episode 2600\tlength: 79\tavg reward: 30.667058266859936\n",
            "Episode 2620\tlength: 137\tavg reward: -5.929064741849503\n",
            "Episode 2640\tlength: 999\tavg reward: 2.172185168523174\n",
            "Episode 2660\tlength: 189\tavg reward: 22.89564266694063\n",
            "Episode 2680\tlength: 999\tavg reward: 113.61972954732035\n",
            "Episode 2700\tlength: 99\tavg reward: 56.560683888841154\n",
            "Episode 2720\tlength: 117\tavg reward: 54.24316760006565\n",
            "Episode 2740\tlength: 92\tavg reward: 56.18954698620722\n",
            "Episode 2760\tlength: 104\tavg reward: 70.07964015770928\n",
            "Episode 2780\tlength: 291\tavg reward: 121.2312856527122\n",
            "Episode 2800\tlength: 330\tavg reward: 140.31409570381396\n",
            "Episode 2820\tlength: 111\tavg reward: 83.85375448802748\n",
            "Episode 2840\tlength: 152\tavg reward: 142.73947767230533\n",
            "Episode 2860\tlength: 136\tavg reward: 119.17407857105351\n",
            "Episode 2880\tlength: 895\tavg reward: 148.15962484872992\n",
            "Solved model, episode : 2894, current best reward = 307.83740012518416\n",
            "Episode 2900\tlength: 283\tavg reward: 190.29515924344724\n",
            "Episode 2920\tlength: 267\tavg reward: 202.36695229508808\n",
            "Episode 2940\tlength: 223\tavg reward: 187.4534999671452\n",
            "Episode 2960\tlength: 193\tavg reward: 122.04148599216781\n",
            "Episode 2980\tlength: 76\tavg reward: 104.7870600389263\n",
            "Episode 3000\tlength: 999\tavg reward: 21.537960199329756\n",
            "Episode 3020\tlength: 351\tavg reward: 98.03781893907748\n",
            "Episode 3040\tlength: 709\tavg reward: 96.07833210548092\n",
            "Episode 3060\tlength: 204\tavg reward: 85.89612020639602\n",
            "Episode 3080\tlength: 254\tavg reward: 113.74785799117817\n",
            "Episode 3100\tlength: 356\tavg reward: 71.77924332592433\n",
            "Episode 3120\tlength: 348\tavg reward: 119.09087471639866\n",
            "Episode 3140\tlength: 460\tavg reward: 143.24505559019957\n",
            "Episode 3160\tlength: 538\tavg reward: 157.48101843268844\n",
            "Episode 3180\tlength: 268\tavg reward: 164.77177414752663\n",
            "Episode 3200\tlength: 389\tavg reward: 90.63450965157105\n",
            "Episode 3220\tlength: 118\tavg reward: 28.774565487629495\n",
            "Episode 3240\tlength: 210\tavg reward: 39.615467754099654\n",
            "Episode 3260\tlength: 996\tavg reward: 91.21753611281021\n",
            "Episode 3280\tlength: 999\tavg reward: 70.2310521159466\n",
            "Episode 3300\tlength: 460\tavg reward: 73.68951468875031\n",
            "Episode 3320\tlength: 467\tavg reward: 12.460752679464388\n",
            "Episode 3340\tlength: 258\tavg reward: 61.47676469105259\n",
            "Episode 3360\tlength: 319\tavg reward: 51.86985097801746\n",
            "Episode 3380\tlength: 999\tavg reward: 16.57630366757909\n",
            "Episode 3400\tlength: 999\tavg reward: 8.533248594052644\n",
            "Episode 3420\tlength: 931\tavg reward: 5.918001800401864\n",
            "Episode 3440\tlength: 351\tavg reward: 145.32191828707056\n",
            "Episode 3460\tlength: 220\tavg reward: 133.9101826226853\n",
            "Episode 3480\tlength: 175\tavg reward: 119.8874700728509\n",
            "Episode 3500\tlength: 165\tavg reward: 108.81105083215166\n",
            "Episode 3520\tlength: 534\tavg reward: 146.96107323025655\n",
            "Episode 3540\tlength: 300\tavg reward: 152.4861184739188\n",
            "Episode 3560\tlength: 634\tavg reward: 139.4811285159269\n",
            "Episode 3580\tlength: 463\tavg reward: 137.94001961615515\n",
            "Episode 3600\tlength: 406\tavg reward: 126.43382389105848\n",
            "Episode 3620\tlength: 209\tavg reward: 140.13420772896066\n",
            "Episode 3640\tlength: 132\tavg reward: 155.1880950041639\n",
            "Episode 3660\tlength: 999\tavg reward: 115.28694173808313\n",
            "Episode 3680\tlength: 680\tavg reward: 135.79191370099448\n",
            "Episode 3700\tlength: 999\tavg reward: 105.78395950068139\n",
            "Episode 3720\tlength: 253\tavg reward: 68.41158821537283\n",
            "Episode 3740\tlength: 356\tavg reward: 74.17644196124226\n",
            "Episode 3760\tlength: 443\tavg reward: 46.5690628677021\n",
            "Episode 3780\tlength: 999\tavg reward: 84.5846898930952\n",
            "Episode 3800\tlength: 999\tavg reward: 105.22474729088177\n",
            "Episode 3820\tlength: 146\tavg reward: 87.91670828132519\n",
            "Episode 3840\tlength: 275\tavg reward: 66.6447849250115\n",
            "Episode 3860\tlength: 117\tavg reward: 58.19716516363381\n",
            "Episode 3880\tlength: 999\tavg reward: 122.68739328758724\n",
            "Episode 3900\tlength: 138\tavg reward: 135.4306228391769\n",
            "Episode 3920\tlength: 999\tavg reward: 125.33745173244122\n",
            "Episode 3940\tlength: 198\tavg reward: 155.6530079587666\n",
            "Episode 3960\tlength: 106\tavg reward: 120.61776014908449\n",
            "Episode 3980\tlength: 999\tavg reward: 123.46851995923052\n",
            "Episode 4000\tlength: 90\tavg reward: 101.543069719278\n",
            "Episode 4020\tlength: 534\tavg reward: 115.14077056956208\n",
            "Episode 4040\tlength: 130\tavg reward: 67.98053405412053\n",
            "Episode 4060\tlength: 130\tavg reward: 21.248144737279404\n",
            "Episode 4080\tlength: 102\tavg reward: 20.598294540130148\n",
            "Episode 4100\tlength: 999\tavg reward: 55.73901421301103\n",
            "Episode 4120\tlength: 999\tavg reward: 101.41824541371281\n",
            "Episode 4140\tlength: 109\tavg reward: 111.52726570195685\n",
            "Episode 4160\tlength: 999\tavg reward: 82.76535479053018\n",
            "Episode 4180\tlength: 120\tavg reward: 79.10541216440595\n",
            "Episode 4200\tlength: 794\tavg reward: 123.4929839755013\n",
            "Episode 4220\tlength: 999\tavg reward: 82.90352910842043\n",
            "Episode 4240\tlength: 88\tavg reward: 56.22822476498506\n",
            "Episode 4260\tlength: 65\tavg reward: 21.398637417457245\n",
            "Episode 4280\tlength: 168\tavg reward: 33.020460799397014\n",
            "Episode 4300\tlength: 95\tavg reward: 14.577859567830796\n",
            "Episode 4320\tlength: 97\tavg reward: 76.30840032291982\n",
            "Episode 4340\tlength: 309\tavg reward: 171.03598302580355\n",
            "Episode 4360\tlength: 214\tavg reward: 134.46261634489457\n",
            "Episode 4380\tlength: 999\tavg reward: 96.18467030554731\n",
            "Episode 4400\tlength: 999\tavg reward: 124.38945635773491\n",
            "Episode 4420\tlength: 178\tavg reward: 122.70022596788638\n",
            "Episode 4440\tlength: 80\tavg reward: 97.24663526559962\n",
            "Episode 4460\tlength: 999\tavg reward: 128.06514770071425\n",
            "Episode 4480\tlength: 999\tavg reward: 87.19778008643654\n",
            "Episode 4500\tlength: 69\tavg reward: 55.49051876997985\n",
            "Episode 4520\tlength: 190\tavg reward: 47.940101111206886\n",
            "Episode 4540\tlength: 387\tavg reward: 72.0694097096866\n",
            "Episode 4560\tlength: 249\tavg reward: 29.834469472514435\n",
            "Episode 4580\tlength: 999\tavg reward: 37.85939437486765\n",
            "Episode 4600\tlength: 155\tavg reward: 48.76673811778868\n",
            "Episode 4620\tlength: 114\tavg reward: 17.38666231773599\n",
            "Episode 4640\tlength: 70\tavg reward: 3.5228747098707984\n",
            "Episode 4660\tlength: 449\tavg reward: 14.849931669631266\n",
            "Episode 4680\tlength: 84\tavg reward: -28.508525222650594\n",
            "Episode 4700\tlength: 84\tavg reward: 16.52794112308907\n",
            "Episode 4720\tlength: 85\tavg reward: -44.30298158578198\n",
            "Episode 4740\tlength: 86\tavg reward: -49.55618441924167\n",
            "Episode 4760\tlength: 68\tavg reward: -59.99835202989825\n",
            "Episode 4780\tlength: 66\tavg reward: -91.71684069583347\n",
            "Episode 4800\tlength: 88\tavg reward: -46.466985307179776\n",
            "Episode 4820\tlength: 64\tavg reward: -73.88638906823608\n",
            "Episode 4840\tlength: 98\tavg reward: -84.86460646273585\n",
            "Episode 4860\tlength: 76\tavg reward: -100.53765345632435\n",
            "Episode 4880\tlength: 68\tavg reward: -176.12321090027828\n",
            "Episode 4900\tlength: 55\tavg reward: -129.2012952742453\n",
            "Episode 4920\tlength: 57\tavg reward: -116.92413895467799\n",
            "Episode 4940\tlength: 75\tavg reward: -94.42055396846368\n",
            "Episode 4960\tlength: 79\tavg reward: -29.345197453129753\n",
            "Episode 4980\tlength: 63\tavg reward: -24.31971156922004\n"
          ]
        }
      ],
      "source": [
        "# Defaults parameters:\n",
        "#    gamma = 0.99\n",
        "#    lr = 0.02\n",
        "#    betas = (0.9, 0.999)\n",
        "#    random_seed = 543\n",
        "\n",
        "render = False\n",
        "gamma = 0.99\n",
        "lr = 0.02\n",
        "betas = (0.9, 0.999)\n",
        "\n",
        "policy = ActorCritic()\n",
        "optimizer = optim.Adam(policy.parameters(), lr=lr, betas=betas)\n",
        "print(lr,betas)\n",
        "\n",
        "total_rewards, final_rewards = [], []\n",
        "best_model_name = \"\"\n",
        "best_reward = 0\n",
        "running_reward = 0\n",
        "for i_episode in range(0, 5000):\n",
        "    state = env.reset()\n",
        "    total_reward = 0\n",
        "    for t in range(10000):\n",
        "        action = policy(state)\n",
        "        state, reward, done, _ = env.step(action)\n",
        "        policy.rewards.append(reward)\n",
        "        running_reward += reward\n",
        "        total_reward += reward\n",
        "\n",
        "        if render and i_episode > 1000:\n",
        "            env.render()\n",
        "        if done:\n",
        "            total_rewards.append(total_reward)\n",
        "            final_rewards.append(reward)\n",
        "            break\n",
        "                \n",
        "    # Updating the policy :\n",
        "    optimizer.zero_grad()\n",
        "    loss = policy.calculateLoss(gamma)\n",
        "    loss.backward()\n",
        "    optimizer.step()        \n",
        "    policy.clearMemory()\n",
        "    \n",
        "    # saving the model if episodes > 999 OR avg reward > 200 \n",
        "    #if i_episode > 999:\n",
        "    #    torch.save(policy.state_dict(), './preTrained/LunarLander_{}_{}_{}.pth'.format(lr, betas[0], betas[1]))\n",
        "    \n",
        "    if total_reward > best_reward:\n",
        "        best_reward = total_reward\n",
        "        best_model_name = 'LunarLander_actor_critic_{}_{}_{}.pth'.format(lr, betas[0], betas[1])\n",
        "        torch.save(policy.state_dict(), './preTrained/{}'.format(best_model_name))\n",
        "        print(\"Solved model, episode : {}, current best reward = {}\".format(i_episode, best_reward))\n",
        "        #break\n",
        "    \n",
        "    if i_episode % 20 == 0:\n",
        "        running_reward = running_reward/20\n",
        "        print('Episode {}\\tlength: {}\\tavg reward: {}'.format(i_episode, t, running_reward))\n",
        "        running_reward = 0"
      ]
    },
    {
      "cell_type": "markdown",
      "metadata": {
        "id": "vNb_tuFYhKVK"
      },
      "source": [
        "### Training Result\n",
        "During the training process, we recorded `avg_total_reward`, which represents the average total reward of episodes before updating the policy network.\n",
        "\n",
        "Theoretically, if the agent becomes better, the `avg_total_reward` will increase.\n",
        "The visualization of the training process is shown below:  \n"
      ]
    },
    {
      "cell_type": "code",
      "execution_count": 15,
      "metadata": {
        "colab": {
          "base_uri": "https://localhost:8080/",
          "height": 281
        },
        "id": "wZYOI8H10SHN",
        "outputId": "54840043-6fe4-4771-e8c9-78785c55aa79"
      },
      "outputs": [
        {
          "data": {
            "image/png": "[encoded data removed]",
            "text/plain": [
              "<Figure size 432x288 with 1 Axes>"
            ]
          },
          "metadata": {
            "needs_background": "light"
          },
          "output_type": "display_data"
        }
      ],
      "source": [
        "plt.plot(total_rewards)\n",
        "plt.title(\"Total Rewards\")\n",
        "plt.show()"
      ]
    },
    {
      "cell_type": "markdown",
      "metadata": {
        "id": "mV5jj4dThz0Y"
      },
      "source": [
        "In addition, `avg_final_reward` represents average final rewards of episodes. To be specific, final rewards is the last reward received in one episode, indicating whether the craft lands successfully or not.\n"
      ]
    },
    {
      "cell_type": "code",
      "execution_count": 16,
      "metadata": {
        "colab": {
          "base_uri": "https://localhost:8080/"
        },
        "id": "txDZ5vlGWz5w",
        "outputId": "c7c5e9ca-6329-4ee2-f3d6-a1ba46b5aea2"
      },
      "outputs": [
        {
          "data": {
            "image/png": "[encoded data removed]",
            "text/plain": [
              "<Figure size 432x288 with 1 Axes>"
            ]
          },
          "metadata": {
            "needs_background": "light"
          },
          "output_type": "display_data"
        }
      ],
      "source": [
        "plt.plot(final_rewards)\n",
        "plt.title(\"Final Rewards\")\n",
        "plt.show()"
      ]
    },
    {
      "cell_type": "markdown",
      "metadata": {
        "id": "u2HaGRVEYGQS"
      },
      "source": [
        "## Testing\n",
        "The testing result will be the average reward of 5 testing"
      ]
    },
    {
      "cell_type": "code",
      "execution_count": 18,
      "metadata": {
        "colab": {
          "base_uri": "https://localhost:8080/",
          "height": 286
        },
        "id": "5yFuUKKRYH73",
        "outputId": "3ad20d21-4c56-47b7-e617-d71e4211aed7"
      },
      "outputs": [
        {
          "name": "stdout",
          "output_type": "stream",
          "text": [
            "240.04766553587473\n",
            "118.16433025623448\n",
            "11.047476332538807\n",
            "199.5537667877967\n",
            "140.57423341999993\n"
          ]
        },
        {
          "data": {
            "image/png": "[encoded data removed]",
            "text/plain": [
              "<Figure size 432x288 with 1 Axes>"
            ]
          },
          "metadata": {
            "needs_background": "light"
          },
          "output_type": "display_data"
        }
      ],
      "source": [
        "fix(env, seed)\n",
        "NUM_OF_TEST = 5 # Do not revise this !!!\n",
        "test_total_reward = []\n",
        "action_list = []\n",
        "\n",
        "policy = ActorCritic()\n",
        "policy.load_state_dict(torch.load('./preTrained/{}'.format(best_model_name)))\n",
        "\n",
        "for i in range(NUM_OF_TEST):\n",
        "  actions = []\n",
        "  state = env.reset()\n",
        "\n",
        "  img = plt.imshow(env.render(mode='rgb_array'))\n",
        "\n",
        "  total_reward = 0\n",
        "\n",
        "  done = False\n",
        "  while not done:\n",
        "      action = policy(state)\n",
        "      actions.append(action)\n",
        "      state, reward, done, _ = env.step(action)\n",
        "\n",
        "      total_reward += reward\n",
        "\n",
        "      #img.set_data(env.render(mode='rgb_array'))\n",
        "      #display.display(plt.gcf())\n",
        "      #display.clear_output(wait=True)\n",
        "      \n",
        "  print(total_reward)\n",
        "  test_total_reward.append(total_reward)\n",
        "\n",
        "  action_list.append(actions) # save the result of testing \n"
      ]
    },
    {
      "cell_type": "code",
      "execution_count": 19,
      "metadata": {
        "colab": {
          "base_uri": "https://localhost:8080/"
        },
        "id": "Aex7mcKr0J01",
        "outputId": "a36aaa35-ec20-4089-ddde-ab4742d3e90e"
      },
      "outputs": [
        {
          "name": "stdout",
          "output_type": "stream",
          "text": [
            "141.8774944664889\n"
          ]
        }
      ],
      "source": [
        "print(np.mean(test_total_reward))"
      ]
    },
    {
      "cell_type": "markdown",
      "metadata": {
        "id": "leyebGYRpqsF"
      },
      "source": [
        "Action list"
      ]
    },
    {
      "cell_type": "code",
      "execution_count": 20,
      "metadata": {
        "colab": {
          "base_uri": "https://localhost:8080/"
        },
        "id": "hGAH4YWDpp4u",
        "outputId": "24f547ee-6648-4d2a-f9c7-718b23e93251"
      },
      "outputs": [
        {
          "name": "stdout",
          "output_type": "stream",
          "text": [
            "Action list looks like  [[1, 1, 1, 1, 1, 1, 1, 1, 1, 1, 1, 3, 3, 3, 1, 1, 1, 3, 3, 3, 3, 3, 3, 3, 2, 3, 3, 2, 3, 1, 3, 2, 2, 1, 2, 0, 3, 2, 2, 1, 3, 1, 3, 2, 3, 2, 3, 1, 2, 2, 2, 2, 2, 2, 2, 2, 2, 2, 2, 2, 2, 2, 2, 2, 1, 2, 1, 2, 2, 2, 2, 2, 2, 2, 2, 2, 2, 2, 2, 2, 2, 3, 2, 2, 2, 1, 2, 3, 2, 2, 1, 2, 2, 2, 3, 2, 3, 2, 2, 2, 2, 3, 3, 3, 3, 3, 3, 3, 3, 3, 3, 3, 3, 3, 3, 3, 3, 3, 3, 3, 3, 3, 3, 3, 3, 3, 3, 3, 3, 3, 3, 3, 3, 3, 3, 3, 3, 3, 3, 3, 3, 3, 3, 3, 3, 3, 3, 3, 3, 3, 3, 3, 3, 3, 3, 3, 3, 3, 3, 3, 3, 3, 3, 3, 3, 3, 3, 3, 3, 3, 3, 3, 3, 3, 3, 3, 3, 3], [1, 1, 1, 1, 1, 1, 1, 1, 1, 1, 1, 1, 1, 1, 1, 3, 1, 1, 3, 3, 3, 3, 1, 3, 3, 3, 2, 1, 2, 2, 3, 2, 3, 3, 2, 3, 3, 3, 2, 2, 2, 3, 3, 3, 2, 3, 1, 1, 2, 2, 2, 2, 2, 2, 2, 2, 2, 0, 2, 2, 2, 2, 2, 3, 2, 2, 2, 2, 2, 2, 2, 2, 2, 2, 2, 2, 2, 2, 2, 2, 2, 2, 2, 2, 2, 2, 2, 2, 2, 2, 2, 2, 2, 2, 2, 1, 2, 3, 3, 2, 2, 2, 3, 3, 3, 3, 3, 3, 3, 3, 3, 3, 3, 3, 3, 3, 3, 3, 1, 1, 1, 1, 1, 1, 1, 1, 1, 1, 1, 1, 1, 1, 1, 1, 1, 1, 1, 1, 1, 3, 1, 3, 1, 1, 3, 2, 1, 1, 1, 1, 1, 3, 3, 1, 1, 1, 3, 1, 3, 3, 1, 3, 1, 3, 1, 1, 1, 3, 3, 1, 1, 3, 3, 1, 1, 1, 3, 3, 1, 3, 3, 3, 1, 3, 1, 3, 1, 3, 1, 3, 3, 3, 3, 1, 3, 1, 3, 1, 3, 3, 1, 1, 3, 3, 1, 3, 3, 1, 3, 1, 3, 1, 3, 1, 3, 1, 3, 1, 1, 1, 1, 3, 3, 3, 3, 3, 3, 3, 1, 3, 1, 1, 3, 1, 3, 1, 3, 1, 1, 1, 1, 1, 1, 1, 1, 1, 1, 1, 1, 3, 1, 3, 1, 3, 3, 1, 3, 3, 3, 1, 3, 3, 1, 3, 3, 1, 3, 1, 1, 3, 3, 3, 3, 1, 1, 1, 3, 3, 1, 3, 3, 1, 1, 3, 3, 1, 3, 1, 1, 3, 3, 1, 1, 1, 1, 3, 3, 1, 1, 1, 1, 1, 3, 3, 3, 1, 1, 1, 3, 1, 3, 1, 1, 1, 3, 3, 1, 3, 1, 3, 1, 1, 1, 1, 3, 1, 1, 1, 3, 3, 3, 1, 3, 1, 1, 1, 3, 3, 3, 1, 3, 1, 3, 3, 3, 1, 3, 1, 1, 3, 3, 1, 3, 3, 1, 1, 1, 1, 1, 1, 1, 3, 1, 3, 1, 1, 1, 3, 1, 3, 3, 1, 1, 1, 3, 3, 1, 1, 1, 3, 1, 1, 1, 3, 1, 1, 1, 1, 1, 1, 1, 3, 1, 1, 3, 1, 3, 1, 3, 1, 1, 3, 1, 3, 1, 3, 1, 1, 1, 1, 3, 3, 3, 3, 3, 1, 1, 3, 3, 1, 1, 3, 1, 3, 1, 1, 1, 1, 3, 1, 3, 3, 1, 3, 3, 1, 1, 1, 3, 1, 1, 3, 1, 1, 1, 1, 1, 1, 1, 1, 1, 1, 1, 3, 3, 3, 1, 3, 3, 3, 1, 1, 1, 1, 1, 1, 1, 3, 3, 3, 1, 3, 1, 1, 1, 1, 3, 3, 1, 1, 1, 3, 1, 1, 3, 1, 3, 1, 3, 1, 3, 3, 1, 3, 1, 3, 1, 1, 3, 3, 1, 1, 1, 1, 3, 3, 1, 3, 3, 3, 3, 3, 1, 1, 3, 1, 3, 3, 3, 3, 1, 1, 3, 1, 1, 3, 1, 1, 3, 3, 1, 3, 3, 3, 3, 3, 1, 1, 1, 3, 3, 1, 1, 3, 1, 1, 3, 3, 3, 1, 1, 1, 1, 1, 1, 1, 3, 1, 1, 1, 3, 3, 3, 3, 3, 3, 1, 1, 3, 1, 1, 3, 1, 3, 3, 3, 3, 3, 3, 3, 1, 3, 3, 1, 1, 3, 3, 3, 1, 3, 3, 3, 3, 3, 1, 1, 1, 1, 3, 1, 1, 3, 1, 3, 1, 1, 1, 3, 3, 3, 3, 3, 3, 1, 3, 3, 3, 1, 3, 3, 3, 3, 3, 3, 3, 3, 1, 3, 1, 1, 1, 1, 1, 3, 3, 1, 3, 1, 1, 1, 1, 3, 1, 3, 1, 1, 3, 1, 1, 3, 3, 3, 1, 3, 3, 3, 1, 3, 3, 1, 3, 1, 1, 1, 3, 1, 3, 1, 1, 1, 1, 3, 3, 1, 3, 3, 1, 3, 3, 1, 3, 3, 3, 3, 3, 3, 3, 3, 3, 3, 3, 1, 3, 1, 3, 1, 3, 3, 1, 3, 3, 1, 1, 1, 3, 1, 3, 1, 3, 1, 1, 1, 1, 1, 3, 3, 1, 3, 3, 1, 1, 1, 3, 3, 3, 1, 1, 1, 1, 3, 1, 1, 1, 1, 3, 1, 3, 1, 3, 3, 1, 1, 1, 1, 1, 3, 1, 3, 3, 1, 3, 3, 1, 1, 1, 3, 1, 1, 1, 3, 3, 1, 1, 3, 3, 3, 1, 1, 1, 1, 1, 3, 3, 1, 1, 3, 1, 3, 3, 1, 3, 3, 3, 1, 1, 3, 1, 3, 1, 3, 1, 3, 1, 1, 3, 3, 1, 1, 3, 1, 1, 3, 1, 1, 1, 3, 1, 3, 3, 1, 3, 1, 3, 3, 3, 1, 3, 3, 1, 3, 1, 3, 3, 1, 1, 3, 3, 1, 1, 3, 1, 3, 1, 3, 1, 1, 3, 1, 1, 1, 1, 1, 1, 1, 1, 1, 3, 1, 1, 3, 1, 1, 1, 1, 3, 1, 1, 1, 1, 1, 1, 1, 1, 3, 3, 3, 1, 3, 3, 1, 1, 1, 3, 1, 3, 1, 3, 1, 1, 1, 1, 1, 1, 1, 1, 3, 3, 3, 3, 3, 3, 3, 1, 1, 1, 1, 1, 3, 3, 3, 1, 3, 1, 1, 1, 1, 3, 3, 1, 1, 3, 3, 1, 1, 1, 3, 3, 3, 1, 3, 3, 1, 3, 1, 1, 1, 1, 3, 3, 3, 3, 1, 1, 3, 3, 1, 3, 1, 1, 1, 1, 3, 3, 3, 1, 1, 3, 3, 3, 3, 3, 3, 3, 3, 3, 3, 1, 3, 1, 1, 3, 1, 1, 1, 3, 3, 1, 1, 3, 1, 3, 3, 1, 3, 1, 1, 3, 3, 1, 1, 1, 1, 3, 1, 1, 1, 1, 1, 1, 1, 1, 3, 3, 1, 1, 1, 1, 3, 3, 1], [1, 1, 1, 1, 1, 1, 1, 1, 1, 1, 1, 1, 1, 1, 1, 1, 3, 2, 2, 0, 3, 3, 2, 3, 3, 3, 3, 3, 3, 3, 3, 3, 2, 2, 3, 3, 1, 3, 2, 2, 2, 2, 2, 3, 3, 2, 2, 2, 2, 2, 2, 2, 2, 2, 2, 2, 2, 2, 2, 2, 2, 2, 2, 2, 2, 3, 2, 2, 2, 2, 2, 2, 2, 2, 2, 2, 3, 3, 3, 3, 2, 2, 2, 2, 2, 2, 3, 3, 3, 3, 3, 3, 3, 3, 3], [3, 3, 3, 3, 3, 3, 3, 3, 3, 3, 3, 3, 3, 3, 3, 1, 2, 2, 1, 1, 0, 1, 3, 1, 2, 1, 1, 2, 2, 2, 2, 2, 1, 1, 2, 2, 1, 1, 1, 2, 2, 2, 2, 2, 2, 1, 2, 1, 2, 2, 2, 2, 2, 2, 2, 2, 2, 2, 2, 2, 2, 1, 2, 1, 2, 2, 2, 3, 1, 2, 3, 2, 2, 2, 1, 2, 2, 3, 2, 3, 2, 3, 1, 2, 2, 3, 2, 2, 2, 2, 2, 2, 1, 1, 3, 3, 2, 2, 3, 2, 3, 2, 1, 2, 2, 2, 2, 2, 1, 0, 2, 2, 2, 2, 1, 3, 2, 1, 2, 2, 2, 2, 1, 2, 3, 2, 1, 1, 2, 2, 1, 2, 2, 3, 2, 1, 2, 2, 2, 2, 1, 2, 3, 3, 3, 3, 2, 2, 2, 2, 2, 3, 2, 3, 1, 2, 2, 2, 2, 2, 2, 2, 3, 3, 3, 3, 3, 3, 3, 2, 3, 3, 3, 3, 3, 3, 3, 3, 3, 3, 3, 3, 3, 3, 3, 3, 3, 3, 3, 3, 3, 3, 3, 3, 3, 3, 3, 3, 3, 2, 3, 3, 3, 3, 3, 2, 2, 3, 1, 3, 1, 3, 3, 3, 3, 3, 3, 3, 3, 3, 3, 3, 3, 3, 3, 3, 3, 2, 3, 1, 3, 3, 3, 3, 3, 3, 3, 3, 3, 3, 3, 3, 3, 3, 3, 3, 3, 1, 1, 3, 3, 1, 3, 1, 1, 1, 1, 3, 1, 1, 3, 3, 3, 3, 3, 1, 1, 1, 1, 1, 1, 1, 3, 1, 3, 3, 1, 1, 1, 3, 3, 3, 3, 3, 3, 3, 3, 3, 3, 3, 3, 3, 3, 1, 3, 3, 1, 3, 1, 3, 1, 1, 3, 1, 3, 3, 1, 1, 3, 3, 3, 1, 3, 3, 3, 1, 3, 3, 3, 3, 3, 3, 3, 3, 3, 1, 3, 3, 1, 1, 1, 1, 1, 3, 3, 3, 3, 1, 3, 3, 1, 3, 3, 3, 3, 3, 3, 1, 3, 3, 3, 3, 1, 1, 1, 1, 3, 3, 3, 1, 1, 3, 1, 3, 1, 1, 1, 3, 1, 3, 3, 3, 0, 3, 3, 1, 1, 3, 3, 3, 1, 1, 1, 1, 3, 1, 1, 1, 3, 1, 1, 1, 1, 1, 3, 3, 1, 1, 1, 3, 1, 3, 1, 1, 3, 3, 3, 1, 1, 3, 1, 1, 3, 1, 1, 1, 3, 1, 1, 1, 3, 1, 1, 1, 1, 1, 3, 1, 1, 1, 3, 3, 3, 3, 1, 3, 1, 1, 3, 1, 1, 1, 3, 1, 3, 3, 3, 1, 3, 3, 1, 1, 3, 3, 1, 1, 3, 3, 1, 1, 3, 1, 1, 1, 3, 3, 3, 1, 3, 1, 3, 1, 1, 1, 1, 1, 3, 3, 3, 1, 3, 1, 1, 1, 3, 1, 1, 1, 1, 1, 1, 3, 1, 3, 3, 1, 3, 1, 1, 1, 3, 3, 1, 3, 1, 3, 1, 3, 3, 1, 3, 1, 1, 1, 1, 1, 3, 1, 3, 3, 1, 3, 1, 1, 1, 1, 1, 3, 1, 1, 3, 3, 1, 1, 1, 1, 1, 1, 1, 1, 3, 3, 1, 3, 1, 3, 1, 3, 1, 1, 3, 1, 1, 1, 1, 3, 1, 3, 0, 3, 1, 1, 1, 1, 3, 1, 3, 3, 1, 1, 3, 1, 1, 1, 3, 1, 3, 1, 2, 3, 3, 3, 3, 3, 3, 3, 3, 3, 3, 3, 3, 3, 3, 3, 3, 3, 3, 3, 3, 3, 3, 1, 3, 1, 3, 3, 1, 1, 3, 3, 1, 1, 1, 3, 1, 3, 1, 1, 1, 3, 1, 1, 1, 1, 1, 1, 1, 1, 1, 1, 1, 1, 1, 1, 1, 1, 1, 1, 1, 1, 1, 1, 1, 1, 1, 1, 1, 1, 1, 1, 1, 1, 1, 1, 1, 1, 1, 1, 1, 1, 1, 1, 1, 1, 1, 1, 1, 1, 1, 1, 1, 1, 1, 1, 1, 1, 1, 1, 1, 1, 1, 1, 1, 1, 1, 1, 1, 1, 1, 1, 1, 1, 1, 1, 1, 1, 1, 1, 1, 1, 1, 1, 1, 1, 1, 1, 1, 1, 1, 1, 1, 1, 1, 1, 1, 1, 1, 1, 1, 1, 1, 1, 1, 1, 1, 1, 1, 1, 1, 1, 1, 1, 1, 1, 1, 1, 1, 1, 1, 1, 1, 1, 1, 1, 1, 1, 1, 1, 1, 1, 1, 1, 1, 1, 1, 1, 1, 1, 1, 1, 1, 1, 1, 1, 1, 1, 1, 1, 1, 1, 1, 1, 1, 1, 1, 1, 1, 1, 1, 1, 1, 1, 1, 1, 1, 1, 1, 1, 1, 1, 1, 1, 1, 1, 1, 1, 1, 1, 1, 1, 1, 1, 1, 1, 1, 1, 1, 1, 1, 1, 1, 1, 1, 1, 1, 3, 1, 1, 1, 1, 1, 1, 1, 1, 1, 1, 1, 1, 3, 1, 1, 1, 1, 1, 1, 1, 1, 1, 1, 1, 1, 1, 1, 1, 1, 1, 1, 1, 1, 1, 1, 1, 1, 1, 1, 1], [3, 3, 3, 3, 0, 0, 1, 0, 2, 1, 3, 2, 1, 2, 2, 3, 2, 3, 1, 2, 2, 3, 1, 3, 2, 1, 3, 2, 3, 3, 1, 3, 2, 1, 2, 1, 1, 2, 1, 2, 2, 2, 2, 3, 2, 2, 2, 2, 2, 2, 2, 2, 1, 2, 2, 2, 2, 2, 2, 2, 2, 2, 2, 1, 2, 2, 2, 2, 2, 3, 2, 2, 2, 2, 2, 2, 2, 2, 2, 2, 3, 1, 2, 2, 2, 2, 3, 2, 3, 3, 2, 3, 1, 3, 2, 3, 1, 2, 2, 2, 2, 2, 3, 2, 1, 2, 2, 2, 2, 2, 2, 1, 2, 2, 1, 2, 2, 2, 2, 2, 2, 3, 3, 3, 3, 3, 3, 3, 3, 3, 3, 3, 3, 3, 3, 3, 3, 3, 3, 3, 3, 3, 3, 3, 3, 3, 3, 3, 3, 3, 3, 3, 3, 3, 3, 3, 3, 3, 3, 3, 3, 3, 3, 3, 3, 3, 3, 3, 3, 3, 3, 3, 3, 3, 3, 1, 1, 1, 1, 3, 1, 1, 1, 1, 1, 1, 1, 1, 1, 1, 1, 3, 1, 3, 1, 3, 3, 3, 1, 1, 1, 1, 1, 3, 1, 1, 1, 3, 3, 1, 3, 3, 1, 1, 3, 1, 3, 1, 0, 1, 1, 3, 3, 3, 1, 3, 1, 3, 3, 3, 1, 1, 3, 3, 3, 1, 3, 1, 3, 3, 3, 3, 3, 3, 1, 3, 1, 3, 1, 1, 3, 3, 3, 1, 3, 1, 3, 3, 3, 1, 3, 1, 3, 3, 1, 1, 3, 3, 3, 1, 3, 1, 3, 3, 1, 1, 3, 3, 2, 1, 3, 3, 1, 1, 1, 1, 2, 1, 3, 3, 3, 3, 3, 3, 3, 3, 3, 2, 3, 3, 3, 3, 3, 3, 3, 3, 3, 3, 3, 3, 3, 3, 3, 3, 3, 3, 3, 3, 3, 3, 3, 3, 3, 3, 3, 3, 3, 3, 3, 3, 3, 3, 3, 3, 3, 3, 3, 3, 3, 3, 3, 3, 3, 3, 3, 3, 3, 3, 3, 3, 3, 3, 3, 3, 3, 2, 3, 3, 3, 3, 3, 3, 3, 3, 3, 3, 3, 3, 3, 3, 3, 3, 3, 3, 3, 1, 1, 1, 1, 1, 1, 1, 3, 3, 1, 1, 1, 1, 1, 1, 1, 1, 1, 1, 1, 1, 1, 3, 1, 1, 1, 1, 1, 1, 1, 1, 1, 1, 1, 1, 1, 1, 1, 1, 3, 3, 1, 1, 1, 1, 1, 1, 3, 1, 1, 1, 3, 1, 1, 1, 1, 1, 3, 1, 1, 1, 1, 3, 1, 1, 1, 1, 1, 1, 1, 1, 1, 1, 1, 3, 3, 1, 1, 3, 1, 1, 3, 1, 1, 3, 1, 1, 1, 1, 1, 3, 1, 1, 1, 1, 3, 3, 1, 1, 3, 2, 1, 1, 1, 1, 1, 3, 3, 1, 1, 1, 1, 3, 3, 1, 1, 1, 1, 1, 3, 3, 1, 3, 1, 1, 1, 1, 1, 3, 1, 1, 1, 1, 1, 3, 1, 1, 3, 3, 3, 1, 3, 3, 1, 1, 1, 3, 3, 3, 3, 1, 1, 0, 3, 1, 1, 3, 1, 1, 3, 1, 1, 1, 1, 1, 1, 1, 3, 1, 1, 1, 1, 1, 3, 3, 1, 3, 3, 1, 1, 1, 1, 1, 3, 1, 1, 1, 1, 1, 1, 1, 3, 1, 1, 1, 3, 1, 1, 1, 1, 3, 1, 1, 1, 1, 1, 1, 1, 1, 1, 1, 1, 1, 1, 3, 1, 1, 1, 1, 1, 1, 1, 1, 1, 3, 3, 1, 1, 1, 1, 2, 1, 1, 3, 3, 2, 3, 3, 3, 3, 3, 3, 3, 3, 3, 3, 3, 3, 3, 3, 1, 3, 3, 3, 3, 3, 3, 3, 3, 3, 3, 3, 3, 3, 3, 3, 3, 3, 3, 3, 3, 3, 3, 3, 1, 3, 3, 1, 1, 3, 3, 1, 1, 3, 1, 3, 3, 3, 1, 1, 1, 1, 1, 1, 1, 1, 1, 1, 1, 1, 1, 1, 1, 1, 1, 1, 1, 1, 1, 1, 1, 1, 1, 1, 1, 1, 1, 1, 1, 1, 1, 1, 1, 1, 1, 1, 1, 1, 1, 1, 1, 1, 1, 1, 1, 1, 1, 1, 1, 1, 1, 1, 1, 1, 1, 1, 1, 1, 1, 1, 1, 1, 1, 1, 1, 1, 1, 1, 1, 1, 1, 1, 1, 1, 1, 1, 1, 1, 1, 1, 1, 1, 1, 1, 1, 1, 1, 1, 1, 1, 1, 1, 1, 1, 1, 1, 1, 1, 1, 1, 1, 1, 1, 1, 1, 1, 1, 1, 1, 1, 1, 1, 1, 1, 1, 1, 1, 1, 1, 1, 1, 1, 1, 1, 1, 1, 1, 1, 1, 1, 1, 1, 1, 1, 1, 1, 1, 1, 1, 1, 1, 1, 1, 1, 1, 1, 1, 1, 1, 1, 1, 1, 1, 1, 1, 1, 1, 1, 1, 1, 1, 1, 1, 1, 1, 1, 1, 1]]\n",
            "Action list's shape looks like  (5,)\n"
          ]
        },
        {
          "name": "stderr",
          "output_type": "stream",
          "text": [
            "/home/siensien/.local/lib/python3.8/site-packages/numpy/core/_asarray.py:83: VisibleDeprecationWarning: Creating an ndarray from ragged nested sequences (which is a list-or-tuple of lists-or-tuples-or ndarrays with different lengths or shapes) is deprecated. If you meant to do this, you must specify 'dtype=object' when creating the ndarray\n",
            "  return array(a, dtype, copy=False, order=order)\n"
          ]
        }
      ],
      "source": [
        "print(\"Action list looks like \", action_list)\n",
        "print(\"Action list's shape looks like \", np.shape(action_list))"
      ]
    },
    {
      "cell_type": "markdown",
      "metadata": {
        "id": "fNkmwucrHMen"
      },
      "source": [
        "Analysis of actions taken by agent"
      ]
    },
    {
      "cell_type": "code",
      "execution_count": 21,
      "metadata": {
        "colab": {
          "base_uri": "https://localhost:8080/"
        },
        "id": "WHdAItjj1nxw",
        "outputId": "20aea8b1-e011-4397-b775-7b4c4b593871"
      },
      "outputs": [
        {
          "name": "stdout",
          "output_type": "stream",
          "text": [
            "{1: 1433, 3: 1176, 2: 341, 0: 12}\n"
          ]
        }
      ],
      "source": [
        "distribution = {}\n",
        "for actions in action_list:\n",
        "  for action in actions:\n",
        "    if action not in distribution.keys():\n",
        "      distribution[action] = 1\n",
        "    else:\n",
        "      distribution[action] += 1\n",
        "print(distribution)"
      ]
    },
    {
      "cell_type": "markdown",
      "metadata": {
        "id": "ricE0schY75M"
      },
      "source": [
        "Saving the result of Model Testing\n"
      ]
    },
    {
      "cell_type": "code",
      "execution_count": 22,
      "metadata": {
        "colab": {
          "base_uri": "https://localhost:8080/"
        },
        "id": "GZsMkGmIY42b",
        "outputId": "c47a3123-eb1b-4dc1-f1b2-7a09a82cd8a6"
      },
      "outputs": [
        {
          "name": "stderr",
          "output_type": "stream",
          "text": [
            "<ipython-input-22-fd322f3df017>:2: VisibleDeprecationWarning: Creating an ndarray from ragged nested sequences (which is a list-or-tuple of lists-or-tuples-or ndarrays with different lengths or shapes) is deprecated. If you meant to do this, you must specify 'dtype=object' when creating the ndarray\n",
            "  np.save(PATH ,np.array(action_list))\n"
          ]
        }
      ],
      "source": [
        "PATH = \"Action_List.npy\" # Can be modified into the name or path you want\n",
        "np.save(PATH ,np.array(action_list)) "
      ]
    },
    {
      "cell_type": "markdown",
      "metadata": {
        "id": "asK7WfbkaLjt"
      },
      "source": [
        "### This is the file you need to submit !!!\n",
        "Download the testing result to your device\n",
        "\n"
      ]
    },
    {
      "cell_type": "code",
      "execution_count": null,
      "metadata": {
        "colab": {
          "base_uri": "https://localhost:8080/",
          "height": 34
        },
        "id": "c-CqyhHzaWAL",
        "outputId": "38653c82-673e-4f90-8746-3a0424fe3aca"
      },
      "outputs": [
        {
          "data": {
            "application/javascript": "\n    async function download(id, filename, size) {\n      if (!google.colab.kernel.accessAllowed) {\n        return;\n      }\n      const div = document.createElement('div');\n      const label = document.createElement('label');\n      label.textContent = `Downloading \"${filename}\": `;\n      div.appendChild(label);\n      const progress = document.createElement('progress');\n      progress.max = size;\n      div.appendChild(progress);\n      document.body.appendChild(div);\n\n      const buffers = [];\n      let downloaded = 0;\n\n      const channel = await google.colab.kernel.comms.open(id);\n      // Send a message to notify the kernel that we're ready.\n      channel.send({})\n\n      for await (const message of channel.messages) {\n        // Send a message to notify the kernel that we're ready.\n        channel.send({})\n        if (message.buffers) {\n          for (const buffer of message.buffers) {\n            buffers.push(buffer);\n            downloaded += buffer.byteLength;\n            progress.value = downloaded;\n          }\n        }\n      }\n      const blob = new Blob(buffers, {type: 'application/binary'});\n      const a = document.createElement('a');\n      a.href = window.URL.createObjectURL(blob);\n      a.download = filename;\n      div.appendChild(a);\n      a.click();\n      div.remove();\n    }\n  ",
            "text/plain": [
              "<IPython.core.display.Javascript object>"
            ]
          },
          "metadata": {
            "tags": []
          },
          "output_type": "display_data"
        },
        {
          "data": {
            "application/javascript": "download(\"download_899cef0d-01bc-40fd-a501-1573f2382641\", \"Action_List.npy\", 4689)",
            "text/plain": [
              "<IPython.core.display.Javascript object>"
            ]
          },
          "metadata": {
            "tags": []
          },
          "output_type": "display_data"
        }
      ],
      "source": [
        "'''\n",
        "from google.colab import files\n",
        "files.download(PATH)\n",
        "'''"
      ]
    },
    {
      "cell_type": "markdown",
      "metadata": {
        "id": "seT4NUmWmAZ1"
      },
      "source": [
        "# Server \n",
        "The code below simulate the environment on the judge server. Can be used for testing."
      ]
    },
    {
      "cell_type": "code",
      "execution_count": 23,
      "metadata": {
        "colab": {
          "base_uri": "https://localhost:8080/"
        },
        "id": "U69c-YTxaw6b",
        "outputId": "65dd4cf4-e667-469d-a7dc-34f6a053e1d0"
      },
      "outputs": [
        {
          "name": "stdout",
          "output_type": "stream",
          "text": [
            "Your reward is : 240.05\n",
            "Your reward is : 118.16\n",
            "Your reward is : 11.05\n",
            "Your reward is : 199.55\n",
            "Your reward is : 140.57\n"
          ]
        },
        {
          "data": {
            "image/png": "[encoded data removed]",
            "text/plain": [
              "<Figure size 432x288 with 1 Axes>"
            ]
          },
          "metadata": {
            "needs_background": "light"
          },
          "output_type": "display_data"
        }
      ],
      "source": [
        "action_list = np.load(PATH,allow_pickle=True) # The action list you upload\n",
        "seed = 543 # Do not revise this\n",
        "fix(env, seed)\n",
        "\n",
        "test_total_reward = []\n",
        "if len(action_list) != 5:\n",
        "  print(\"Wrong format of file !!!\")\n",
        "  exit(0)\n",
        "for actions in action_list:\n",
        "  state = env.reset()\n",
        "  img = plt.imshow(env.render(mode='rgb_array'))\n",
        "\n",
        "  total_reward = 0\n",
        "\n",
        "  done = False\n",
        "\n",
        "  for action in actions:\n",
        "  \n",
        "      state, reward, done, _ = env.step(action)\n",
        "      total_reward += reward\n",
        "      if done:\n",
        "        break\n",
        "\n",
        "      #img.set_data(env.render(mode='rgb_array'))\n",
        "      #display.display(plt.gcf())\n",
        "      #display.clear_output(wait=True)\n",
        "\n",
        "  print(f\"Your reward is : %.2f\"%total_reward)\n",
        "  test_total_reward.append(total_reward)"
      ]
    },
    {
      "cell_type": "markdown",
      "metadata": {
        "id": "TjFBWwQP1hVe"
      },
      "source": [
        "# Your score"
      ]
    },
    {
      "cell_type": "code",
      "execution_count": 24,
      "metadata": {
        "colab": {
          "base_uri": "https://localhost:8080/"
        },
        "id": "GpJpZz3Wbm0X",
        "outputId": "7d4677c7-b285-42d3-d8c0-5f0a0d8230c8"
      },
      "outputs": [
        {
          "name": "stdout",
          "output_type": "stream",
          "text": [
            "Your final reward is : 141.88\n"
          ]
        }
      ],
      "source": [
        "print(f\"Your final reward is : %.2f\"%np.mean(test_total_reward))"
      ]
    },
    {
      "cell_type": "markdown",
      "metadata": {
        "id": "wUBtYXG2eaqf"
      },
      "source": [
        "## Reference\n",
        "\n",
        "Below are some useful tips for you to get high score.\n",
        "\n",
        "- [DRL Lecture 1: Policy Gradient (Review)](https://youtu.be/z95ZYgPgXOY)\n",
        "- [ML Lecture 23-3: Reinforcement Learning (including Q-learning) start at 30:00](https://youtu.be/2-JNBzCq77c?t=1800)\n",
        "- [Lecture 7: Policy Gradient, David Silver](http://www0.cs.ucl.ac.uk/staff/d.silver/web/Teaching_files/pg.pdf)\n"
      ]
    },
    {
      "cell_type": "markdown",
      "metadata": {
        "id": "eZ7VDw-C19Qe"
      },
      "source": []
    }
  ],
  "metadata": {
    "colab": {
      "collapsed_sections": [],
      "name": "hw12_reinforcement_learning_english_version.ipynb",
      "provenance": []
    },
    "kernelspec": {
      "display_name": "Python 3",
      "name": "python3"
    },
    "language_info": {
      "codemirror_mode": {
        "name": "ipython",
        "version": 3
      },
      "file_extension": ".py",
      "mimetype": "text/x-python",
      "name": "python",
      "nbconvert_exporter": "python",
      "pygments_lexer": "ipython3",
      "version": "3.8.10"
    },
    "widgets": {
      "application/vnd.jupyter.widget-state+json": {
        "3aa84c8c097d4858a0c38f18dec8b060": {
          "model_module": "@jupyter-widgets/controls",
          "model_module_version": "1.5.0",
          "model_name": "FloatProgressModel",
          "state": {
            "_dom_classes": [],
            "_model_module": "@jupyter-widgets/controls",
            "_model_module_version": "1.5.0",
            "_model_name": "FloatProgressModel",
            "_view_count": null,
            "_view_module": "@jupyter-widgets/controls",
            "_view_module_version": "1.5.0",
            "_view_name": "ProgressView",
            "bar_style": "success",
            "description": "Total:  86.3, Final:  0.0: 100%",
            "description_tooltip": null,
            "layout": "IPY_MODEL_a0bb5061ca0946ab89a89f9abadcebc8",
            "max": 400,
            "min": 0,
            "orientation": "horizontal",
            "style": "IPY_MODEL_a25de7edbbee47cc8094f43125efa39b",
            "value": 400
          }
        },
        "5af1c6579f0f4c2eb03df4063749569e": {
          "model_module": "@jupyter-widgets/base",
          "model_module_version": "1.2.0",
          "model_name": "LayoutModel",
          "state": {
            "_model_module": "@jupyter-widgets/base",
            "_model_module_version": "1.2.0",
            "_model_name": "LayoutModel",
            "_view_count": null,
            "_view_module": "@jupyter-widgets/base",
            "_view_module_version": "1.2.0",
            "_view_name": "LayoutView",
            "align_content": null,
            "align_items": null,
            "align_self": null,
            "border": null,
            "bottom": null,
            "display": null,
            "flex": null,
            "flex_flow": null,
            "grid_area": null,
            "grid_auto_columns": null,
            "grid_auto_flow": null,
            "grid_auto_rows": null,
            "grid_column": null,
            "grid_gap": null,
            "grid_row": null,
            "grid_template_areas": null,
            "grid_template_columns": null,
            "grid_template_rows": null,
            "height": null,
            "justify_content": null,
            "justify_items": null,
            "left": null,
            "margin": null,
            "max_height": null,
            "max_width": null,
            "min_height": null,
            "min_width": null,
            "object_fit": null,
            "object_position": null,
            "order": null,
            "overflow": null,
            "overflow_x": null,
            "overflow_y": null,
            "padding": null,
            "right": null,
            "top": null,
            "visibility": null,
            "width": null
          }
        },
        "6345f8926212465291c04587353161f1": {
          "model_module": "@jupyter-widgets/base",
          "model_module_version": "1.2.0",
          "model_name": "LayoutModel",
          "state": {
            "_model_module": "@jupyter-widgets/base",
            "_model_module_version": "1.2.0",
            "_model_name": "LayoutModel",
            "_view_count": null,
            "_view_module": "@jupyter-widgets/base",
            "_view_module_version": "1.2.0",
            "_view_name": "LayoutView",
            "align_content": null,
            "align_items": null,
            "align_self": null,
            "border": null,
            "bottom": null,
            "display": null,
            "flex": null,
            "flex_flow": null,
            "grid_area": null,
            "grid_auto_columns": null,
            "grid_auto_flow": null,
            "grid_auto_rows": null,
            "grid_column": null,
            "grid_gap": null,
            "grid_row": null,
            "grid_template_areas": null,
            "grid_template_columns": null,
            "grid_template_rows": null,
            "height": null,
            "justify_content": null,
            "justify_items": null,
            "left": null,
            "margin": null,
            "max_height": null,
            "max_width": null,
            "min_height": null,
            "min_width": null,
            "object_fit": null,
            "object_position": null,
            "order": null,
            "overflow": null,
            "overflow_x": null,
            "overflow_y": null,
            "padding": null,
            "right": null,
            "top": null,
            "visibility": null,
            "width": null
          }
        },
        "6647e68cf064416ca593b990bed81edf": {
          "model_module": "@jupyter-widgets/controls",
          "model_module_version": "1.5.0",
          "model_name": "HTMLModel",
          "state": {
            "_dom_classes": [],
            "_model_module": "@jupyter-widgets/controls",
            "_model_module_version": "1.5.0",
            "_model_name": "HTMLModel",
            "_view_count": null,
            "_view_module": "@jupyter-widgets/controls",
            "_view_module_version": "1.5.0",
            "_view_name": "HTMLView",
            "description": "",
            "description_tooltip": null,
            "layout": "IPY_MODEL_5af1c6579f0f4c2eb03df4063749569e",
            "placeholder": "​",
            "style": "IPY_MODEL_d99d8e6bcbe0445eb7eddbfe31277635",
            "value": " 400/400 [11:36&lt;00:00,  1.74s/it]"
          }
        },
        "a0bb5061ca0946ab89a89f9abadcebc8": {
          "model_module": "@jupyter-widgets/base",
          "model_module_version": "1.2.0",
          "model_name": "LayoutModel",
          "state": {
            "_model_module": "@jupyter-widgets/base",
            "_model_module_version": "1.2.0",
            "_model_name": "LayoutModel",
            "_view_count": null,
            "_view_module": "@jupyter-widgets/base",
            "_view_module_version": "1.2.0",
            "_view_name": "LayoutView",
            "align_content": null,
            "align_items": null,
            "align_self": null,
            "border": null,
            "bottom": null,
            "display": null,
            "flex": null,
            "flex_flow": null,
            "grid_area": null,
            "grid_auto_columns": null,
            "grid_auto_flow": null,
            "grid_auto_rows": null,
            "grid_column": null,
            "grid_gap": null,
            "grid_row": null,
            "grid_template_areas": null,
            "grid_template_columns": null,
            "grid_template_rows": null,
            "height": null,
            "justify_content": null,
            "justify_items": null,
            "left": null,
            "margin": null,
            "max_height": null,
            "max_width": null,
            "min_height": null,
            "min_width": null,
            "object_fit": null,
            "object_position": null,
            "order": null,
            "overflow": null,
            "overflow_x": null,
            "overflow_y": null,
            "padding": null,
            "right": null,
            "top": null,
            "visibility": null,
            "width": null
          }
        },
        "a25de7edbbee47cc8094f43125efa39b": {
          "model_module": "@jupyter-widgets/controls",
          "model_module_version": "1.5.0",
          "model_name": "ProgressStyleModel",
          "state": {
            "_model_module": "@jupyter-widgets/controls",
            "_model_module_version": "1.5.0",
            "_model_name": "ProgressStyleModel",
            "_view_count": null,
            "_view_module": "@jupyter-widgets/base",
            "_view_module_version": "1.2.0",
            "_view_name": "StyleView",
            "bar_color": null,
            "description_width": "initial"
          }
        },
        "d99d8e6bcbe0445eb7eddbfe31277635": {
          "model_module": "@jupyter-widgets/controls",
          "model_module_version": "1.5.0",
          "model_name": "DescriptionStyleModel",
          "state": {
            "_model_module": "@jupyter-widgets/controls",
            "_model_module_version": "1.5.0",
            "_model_name": "DescriptionStyleModel",
            "_view_count": null,
            "_view_module": "@jupyter-widgets/base",
            "_view_module_version": "1.2.0",
            "_view_name": "StyleView",
            "description_width": ""
          }
        },
        "de3a153737af485ea436d7e8393d8248": {
          "model_module": "@jupyter-widgets/controls",
          "model_module_version": "1.5.0",
          "model_name": "HBoxModel",
          "state": {
            "_dom_classes": [],
            "_model_module": "@jupyter-widgets/controls",
            "_model_module_version": "1.5.0",
            "_model_name": "HBoxModel",
            "_view_count": null,
            "_view_module": "@jupyter-widgets/controls",
            "_view_module_version": "1.5.0",
            "_view_name": "HBoxView",
            "box_style": "",
            "children": [
              "IPY_MODEL_3aa84c8c097d4858a0c38f18dec8b060",
              "IPY_MODEL_6647e68cf064416ca593b990bed81edf"
            ],
            "layout": "IPY_MODEL_6345f8926212465291c04587353161f1"
          }
        }
      }
    }
  },
  "nbformat": 4,
  "nbformat_minor": 0
}
