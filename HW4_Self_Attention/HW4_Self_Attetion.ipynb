{
  "cells": [
    {
      "cell_type": "markdown",
      "metadata": {
        "id": "zC5KwRyl6Flp"
      },
      "source": [
        "# Task description\n",
        "- Classify the speakers of given features.\n",
        "- Main goal: Learn how to use transformer.\n",
        "- Baselines:\n",
        "  - Easy: Run sample code and know how to use transformer.\n",
        "  - Medium: Know how to adjust parameters of transformer.\n",
        "  - Hard: Construct [conformer](https://arxiv.org/abs/2005.08100) which is a variety of transformer. \n",
        "\n",
        "- Other links\n",
        "  - Kaggle: [link](https://www.kaggle.com/t/859c9ca9ede14fdea841be627c412322)\n",
        "  - Slide: [link](https://speech.ee.ntu.edu.tw/~hylee/ml/ml2021-course-data/hw/HW04/HW04.pdf)\n",
        "  - Data: [link](https://drive.google.com/file/d/1T0RPnu-Sg5eIPwQPfYysipfcz81MnsYe/view?usp=sharing)\n",
        "  - Video (Chinese): [link](https://www.youtube.com/watch?v=EPerg2UnGaI)\n",
        "  - Video (English): [link](https://www.youtube.com/watch?v=Gpz6AUvCak0)\n",
        "  - Solution for downloading dataset fail.: [link](https://drive.google.com/drive/folders/13T0Pa_WGgQxNkqZk781qhc5T9-zfh19e?usp=sharing)"
      ]
    },
    {
      "cell_type": "markdown",
      "metadata": {
        "id": "TPDoreyypeJE"
      },
      "source": [
        "# Download dataset\n",
        "- Please follow [here](https://drive.google.com/drive/folders/13T0Pa_WGgQxNkqZk781qhc5T9-zfh19e?usp=sharing) to download data\n",
        "- Data is [here](https://drive.google.com/file/d/1gaFy8RaQVUEXo2n0peCBR5gYKCB-mNHc/view?usp=sharing)"
      ]
    },
    {
      "cell_type": "code",
      "execution_count": 2,
      "metadata": {
        "id": "QvpaILXnJIcw"
      },
      "outputs": [],
      "source": [
        "#!gdown --id 'paste your own data download link' --output Dataset.zip\n",
        "#!unzip Dataset.zip"
      ]
    },
    {
      "cell_type": "code",
      "execution_count": 3,
      "metadata": {},
      "outputs": [
        {
          "name": "stdout",
          "output_type": "stream",
          "text": [
            "Mon Apr 11 22:44:43 2022       \n",
            "+-----------------------------------------------------------------------------+\n",
            "| NVIDIA-SMI 470.57.02    Driver Version: 470.57.02    CUDA Version: 11.4     |\n",
            "|-------------------------------+----------------------+----------------------+\n",
            "| GPU  Name        Persistence-M| Bus-Id        Disp.A | Volatile Uncorr. ECC |\n",
            "| Fan  Temp  Perf  Pwr:Usage/Cap|         Memory-Usage | GPU-Util  Compute M. |\n",
            "|                               |                      |               MIG M. |\n",
            "|===============================+======================+======================|\n",
            "|   0  NVIDIA GeForce ...  On   | 00000000:02:00.0 Off |                  N/A |\n",
            "| 25%   30C    P8     2W / 250W |     67MiB / 11018MiB |      0%      Default |\n",
            "|                               |                      |                  N/A |\n",
            "+-------------------------------+----------------------+----------------------+\n",
            "                                                                               \n",
            "+-----------------------------------------------------------------------------+\n",
            "| Processes:                                                                  |\n",
            "|  GPU   GI   CI        PID   Type   Process name                  GPU Memory |\n",
            "|        ID   ID                                                   Usage      |\n",
            "|=============================================================================|\n",
            "|    0   N/A  N/A      1313      G   /usr/lib/xorg/Xorg                 56MiB |\n",
            "|    0   N/A  N/A      1461      G   /usr/bin/gnome-shell                8MiB |\n",
            "+-----------------------------------------------------------------------------+\n"
          ]
        }
      ],
      "source": [
        "gpu_info = !nvidia-smi\n",
        "gpu_info = '\\n'.join(gpu_info)\n",
        "if gpu_info.find('failed') >= 0:\n",
        "  print('Not connected to a GPU')\n",
        "else:\n",
        "  print(gpu_info)"
      ]
    },
    {
      "cell_type": "markdown",
      "metadata": {
        "id": "v1gYr_aoNDue"
      },
      "source": [
        "# Data"
      ]
    },
    {
      "cell_type": "code",
      "execution_count": null,
      "metadata": {},
      "outputs": [],
      "source": []
    },
    {
      "cell_type": "markdown",
      "metadata": {
        "id": "Mz_NpuAipk3h"
      },
      "source": [
        "## Dataset\n",
        "- Original dataset is [Voxceleb1](https://www.robots.ox.ac.uk/~vgg/data/voxceleb/).\n",
        "- The [license](https://creativecommons.org/licenses/by/4.0/) and [complete version](https://www.robots.ox.ac.uk/~vgg/data/voxceleb/files/license.txt) of Voxceleb1.\n",
        "- We randomly select 600 speakers from Voxceleb1.\n",
        "- Then preprocess the raw waveforms into mel-spectrograms.\n",
        "\n",
        "- Args:\n",
        "  - data_dir: The path to the data directory.\n",
        "  - metadata_path: The path to the metadata.\n",
        "  - segment_len: The length of audio segment for training. \n",
        "- The architecture of data directory \\\\\n",
        "  - data directory \\\\\n",
        "  |---- metadata.json \\\\\n",
        "  |---- testdata.json \\\\\n",
        "  |---- mapping.json \\\\\n",
        "  |---- uttr-{random string}.pt \\\\\n",
        "\n",
        "- The information in metadata\n",
        "  - \"n_mels\": The dimention of mel-spectrogram.\n",
        "  - \"speakers\": A dictionary. \n",
        "    - Key: speaker ids.\n",
        "    - value: \"feature_path\" and \"mel_len\"\n",
        "\n",
        "\n",
        "For efficiency, we segment the mel-spectrograms into segments in the traing step."
      ]
    },
    {
      "cell_type": "code",
      "execution_count": 4,
      "metadata": {
        "id": "cd7hoGhYtbXQ"
      },
      "outputs": [],
      "source": [
        "import os\n",
        "import json\n",
        "import torch\n",
        "import random\n",
        "from pathlib import Path\n",
        "from torch.utils.data import Dataset\n",
        "from torch.nn.utils.rnn import pad_sequence\n",
        " \n",
        "# default segment_len=128\n",
        "class myDataset(Dataset):\n",
        "  def __init__(self, data_dir, segment_len=128):\n",
        "    self.data_dir = data_dir\n",
        "    self.segment_len = segment_len\n",
        " \n",
        "    # Load the mapping from speaker neme to their corresponding id. \n",
        "    mapping_path = Path(data_dir) / \"mapping.json\"\n",
        "    mapping = json.load(mapping_path.open())\n",
        "    self.speaker2id = mapping[\"speaker2id\"]\n",
        " \n",
        "    # Load metadata of training data.\n",
        "    metadata_path = Path(data_dir) / \"metadata.json\"\n",
        "    metadata = json.load(open(metadata_path))[\"speakers\"]\n",
        " \n",
        "    # Get the total number of speaker.\n",
        "    self.speaker_num = len(metadata.keys())\n",
        "    self.data = []\n",
        "    for speaker in metadata.keys():\n",
        "      for utterances in metadata[speaker]:\n",
        "        self.data.append([utterances[\"feature_path\"], self.speaker2id[speaker]])\n",
        " \n",
        "  def __len__(self):\n",
        "    return len(self.data)\n",
        " \n",
        "  def __getitem__(self, index):\n",
        "    feat_path, speaker = self.data[index]\n",
        "    # Load preprocessed mel-spectrogram.\n",
        "    mel = torch.load(os.path.join(self.data_dir, feat_path))\n",
        " \n",
        "    # Segmemt mel-spectrogram into \"segment_len\" frames.\n",
        "    if len(mel) > self.segment_len:\n",
        "      # Randomly get the starting point of the segment.\n",
        "      start = random.randint(0, len(mel) - self.segment_len)\n",
        "      # Get a segment with \"segment_len\" frames.\n",
        "      mel = torch.FloatTensor(mel[start:start+self.segment_len])\n",
        "    else:\n",
        "      mel = torch.FloatTensor(mel)\n",
        "    # Turn the speaker id into long for computing loss later.\n",
        "    speaker = torch.FloatTensor([speaker]).long()\n",
        "    return mel, speaker\n",
        " \n",
        "  def get_speaker_number(self):\n",
        "    return self.speaker_num"
      ]
    },
    {
      "cell_type": "markdown",
      "metadata": {
        "id": "mqJxjoi_NGnB"
      },
      "source": [
        "## Dataloader\n",
        "- Split dataset into training dataset(90%) and validation dataset(10%).\n",
        "- Create dataloader to iterate the data.\n"
      ]
    },
    {
      "cell_type": "code",
      "execution_count": 5,
      "metadata": {
        "id": "zuT1AuFENI8t"
      },
      "outputs": [],
      "source": [
        "import torch\n",
        "from torch.utils.data import DataLoader, random_split\n",
        "from torch.nn.utils.rnn import pad_sequence\n",
        "\n",
        "\n",
        "def collate_batch(batch):\n",
        "  # Process features within a batch.\n",
        "  #. zip(*) 可理解為解壓縮\n",
        "  \"\"\"Collate a batch of data.\"\"\"\n",
        "  mel, speaker = zip(*batch)\n",
        "  # Because we train the model batch by batch, we need to pad the features in the same batch to make their lengths the same.\n",
        "  # 將mel對齊成一樣長度\n",
        "  mel = pad_sequence(mel, batch_first=True, padding_value=-20)    # pad log 10^(-20) which is very small value.\n",
        "  # mel: (batch size, length, 40)\n",
        "  return mel, torch.FloatTensor(speaker).long()\n",
        "\n",
        "\n",
        "def get_dataloader(data_dir, batch_size, n_workers):\n",
        "  \"\"\"Generate dataloader\"\"\"\n",
        "  dataset = myDataset(data_dir)\n",
        "  speaker_num = dataset.get_speaker_number()\n",
        "  # Split dataset into training dataset and validation dataset\n",
        "  trainlen = int(0.9 * len(dataset))\n",
        "  lengths = [trainlen, len(dataset) - trainlen]\n",
        "  trainset, validset = random_split(dataset, lengths)\n",
        "\n",
        "  train_loader = DataLoader(\n",
        "    trainset,\n",
        "    batch_size=batch_size,\n",
        "    shuffle=True,\n",
        "    drop_last=True,\n",
        "    num_workers=n_workers,\n",
        "    pin_memory=True,\n",
        "    collate_fn=collate_batch,\n",
        "  )\n",
        "  valid_loader = DataLoader(\n",
        "    validset,\n",
        "    batch_size=batch_size,\n",
        "    num_workers=n_workers,\n",
        "    drop_last=True,\n",
        "    pin_memory=True,\n",
        "    collate_fn=collate_batch,\n",
        "  )\n",
        "\n",
        "  return train_loader, valid_loader, speaker_num\n"
      ]
    },
    {
      "cell_type": "markdown",
      "metadata": {
        "id": "X0x6eXiHpr4R"
      },
      "source": [
        "# Model\n",
        "- TransformerEncoderLayer:\n",
        "  - Base transformer encoder layer in [Attention Is All You Need](https://arxiv.org/abs/1706.03762)\n",
        "  - Parameters:\n",
        "    - d_model: the number of expected features of the input (required).\n",
        "\n",
        "    - nhead: the number of heads of the multiheadattention models (required).\n",
        "\n",
        "    - dim_feedforward: the dimension of the feedforward network model (default=2048).\n",
        "\n",
        "    - dropout: the dropout value (default=0.1).\n",
        "\n",
        "    - activation: the activation function of intermediate layer, relu or gelu (default=relu).\n",
        "\n",
        "- TransformerEncoder:\n",
        "  - TransformerEncoder is a stack of N transformer encoder layers\n",
        "  - Parameters:\n",
        "    - encoder_layer: an instance of the TransformerEncoderLayer() class (required).\n",
        "\n",
        "    - num_layers: the number of sub-encoder-layers in the encoder (required).\n",
        "\n",
        "    - norm: the layer normalization component (optional)."
      ]
    },
    {
      "cell_type": "code",
      "execution_count": 6,
      "metadata": {
        "id": "SHX4eVj4tjtd"
      },
      "outputs": [],
      "source": [
        "import torch\n",
        "import torch.nn as nn\n",
        "import torch.nn.functional as F\n",
        "# need to install conformer : pip install conformer\n",
        "from conformer import ConformerBlock\n",
        "\n",
        "\n",
        "# default : d_model=80, n_spks=600, dropout=0.1, dim_feedforward=256, nhead=2\n",
        "\n",
        "class Classifier(nn.Module):\n",
        "  def __init__(self, d_model=256, n_spks=600, dropout=0.1):\n",
        "    super().__init__()\n",
        "    # Project the dimension of features from that of input into d_model.\n",
        "    self.prenet = nn.Linear(40, d_model)\n",
        "    # TODO:\n",
        "    #   Change Transformer to Conformer.\n",
        "    #   https://arxiv.org/abs/2005.08100\n",
        "    \"\"\"\"\n",
        "    self.encoder_layer = nn.TransformerEncoderLayer(\n",
        "      d_model=d_model, dim_feedforward=256, nhead=2, \n",
        "    )\n",
        "    # self.encoder = nn.TransformerEncoder(self.encoder_layer, num_layers=2)\n",
        "    \"\"\"\n",
        "\n",
        "    # use conformer to replace transformer encoder\n",
        "    # inner dim of attention = dim_head * head \n",
        "    # ff_mult = expansion factor for inner linear layer of feedforward \n",
        "    # conv_expandsion factor : expansion factor for inner linear layer of convolution : dim in con = dim*conv_expandsion factor\n",
        "    self.conformer_block = ConformerBlock(\n",
        "      dim = d_model,\n",
        "      dim_head = 256,\n",
        "      heads = 1,\n",
        "      ff_mult = 4,\n",
        "      conv_expansion_factor = 18,\n",
        "      conv_kernel_size = 41,\n",
        "      attn_dropout = dropout,\n",
        "      ff_dropout = dropout,\n",
        "      conv_dropout = dropout\n",
        "    )\n",
        "    \n",
        "\n",
        "    # Project the the dimension of features from d_model into speaker nums.\n",
        "    self.pred_layer = nn.Sequential(\n",
        "      #nn.Linear(d_model, d_model),\n",
        "      nn.ReLU(),\n",
        "      #nn.BatchNorm1d(d_model),\n",
        "      #nn.Dropout(0.5),\n",
        "      nn.Linear(d_model, n_spks),\n",
        "    )\n",
        "\n",
        "  def forward(self, mels):\n",
        "    \"\"\"\n",
        "    args:\n",
        "      mels: (batch size, length, 40)\n",
        "    return:\n",
        "      out: (batch size, n_spks)\n",
        "    \"\"\"\n",
        "    # out: (batch size, length, d_model)\n",
        "    out = self.prenet(mels)\n",
        "    out = out.permute(1, 0, 2)\n",
        "\n",
        "    ''' transformer version\n",
        "    # out: (length, batch size, d_model)\n",
        "    # permute change dimension order \n",
        "    out = out.permute(1, 0, 2)\n",
        "    # The encoder layer expect features in the shape of (length, batch size, d_model) without batch first set to true.\n",
        "    out = self.encoder_layer(out)\n",
        "    out = out.transpose(0, 1)\n",
        "    #out: (batch size, length, d_model)\n",
        "\n",
        "    '''\n",
        "\n",
        "    out = self.conformer_block(out)\n",
        "    out = out.transpose(0, 1)\n",
        "\n",
        "    # mean pooling\n",
        "    stats = out.mean(dim=1)\n",
        "    # stats: (batch size, d_model)\n",
        "\n",
        "    # out: (batch, n_spks)\n",
        "    out = self.pred_layer(stats)\n",
        "    return out\n"
      ]
    },
    {
      "cell_type": "markdown",
      "metadata": {
        "id": "-__DolPGpvDZ"
      },
      "source": [
        "# Learning rate schedule\n",
        "- For transformer architecture, the design of learning rate schedule is different from that of CNN.\n",
        "- Previous works show that the warmup of learning rate is useful for training models with transformer architectures.\n",
        "- The warmup schedule\n",
        "  - Set learning rate to 0 in the beginning.\n",
        "  - The learning rate increases linearly from 0 to initial learning rate during warmup period."
      ]
    },
    {
      "cell_type": "code",
      "execution_count": 7,
      "metadata": {
        "id": "K-0816BntqT9"
      },
      "outputs": [],
      "source": [
        "import math\n",
        "\n",
        "import torch\n",
        "from torch.optim import Optimizer\n",
        "from torch.optim.lr_scheduler import LambdaLR\n",
        "\n",
        "\n",
        "def get_cosine_schedule_with_warmup(\n",
        "  optimizer: Optimizer,\n",
        "  num_warmup_steps: int,\n",
        "  num_training_steps: int,\n",
        "  num_cycles: float = 0.5,\n",
        "  last_epoch: int = -1,\n",
        "):\n",
        "  \"\"\"\n",
        "  Create a schedule with a learning rate that decreases following the values of the cosine function between the\n",
        "  initial lr set in the optimizer to 0, after a warmup period during which it increases linearly between 0 and the\n",
        "  initial lr set in the optimizer.\n",
        "\n",
        "  Args:\n",
        "    optimizer (:class:`~torch.optim.Optimizer`):\n",
        "      The optimizer for which to schedule the learning rate.\n",
        "    num_warmup_steps (:obj:`int`):\n",
        "      The number of steps for the warmup phase.\n",
        "    num_training_steps (:obj:`int`):\n",
        "      The total number of training steps.\n",
        "    num_cycles (:obj:`float`, `optional`, defaults to 0.5):\n",
        "      The number of waves in the cosine schedule (the defaults is to just decrease from the max value to 0\n",
        "      following a half-cosine).\n",
        "    last_epoch (:obj:`int`, `optional`, defaults to -1):\n",
        "      The index of the last epoch when resuming training.\n",
        "\n",
        "  Return:\n",
        "    :obj:`torch.optim.lr_scheduler.LambdaLR` with the appropriate schedule.\n",
        "  \"\"\"\n",
        "\n",
        "  def lr_lambda(current_step):\n",
        "    # Warmup\n",
        "    if current_step < num_warmup_steps:\n",
        "      return float(current_step) / float(max(1, num_warmup_steps))\n",
        "    # decadence\n",
        "    progress = float(current_step - num_warmup_steps) / float(\n",
        "      max(1, num_training_steps - num_warmup_steps)\n",
        "    )\n",
        "    return max(\n",
        "      0.0, 0.5 * (1.0 + math.cos(math.pi * float(num_cycles) * 2.0 * progress))\n",
        "    )\n",
        "\n",
        "  return LambdaLR(optimizer, lr_lambda, last_epoch)\n"
      ]
    },
    {
      "cell_type": "markdown",
      "metadata": {
        "id": "IP03FFo9K8DS"
      },
      "source": [
        "# Model Function\n",
        "- Model forward function."
      ]
    },
    {
      "cell_type": "code",
      "execution_count": 8,
      "metadata": {
        "id": "fohaLEFJK9-t"
      },
      "outputs": [],
      "source": [
        "import torch\n",
        "\n",
        "\n",
        "def model_fn(batch, model, criterion, device):\n",
        "  \"\"\"Forward a batch through the model.\"\"\"\n",
        "\n",
        "  mels, labels = batch\n",
        "  mels = mels.to(device)\n",
        "  labels = labels.to(device)\n",
        "\n",
        "  outs = model(mels)\n",
        "\n",
        "  loss = criterion(outs, labels)\n",
        "\n",
        "  # Get the speaker id with highest probability.\n",
        "  preds = outs.argmax(1)\n",
        "  # Compute accuracy.\n",
        "  accuracy = torch.mean((preds == labels).float())\n",
        "\n",
        "  return loss, accuracy\n"
      ]
    },
    {
      "cell_type": "markdown",
      "metadata": {
        "id": "F7cg-YrzLQcf"
      },
      "source": [
        "# Validate\n",
        "- Calculate accuracy of the validation set."
      ]
    },
    {
      "cell_type": "code",
      "execution_count": 9,
      "metadata": {
        "id": "mD-_p6nWLO2L"
      },
      "outputs": [],
      "source": [
        "from tqdm import tqdm\n",
        "import torch\n",
        "\n",
        "# record for visualization\n",
        "valid_loss_record = []\n",
        "valid_acc_record = []\n",
        "\n",
        "def valid(dataloader, model, criterion, device): \n",
        "  \"\"\"Validate on validation set.\"\"\"\n",
        "\n",
        "  model.eval()\n",
        "  running_loss = 0.0\n",
        "  running_accuracy = 0.0\n",
        "  pbar = tqdm(total=len(dataloader.dataset), ncols=0, desc=\"Valid\", unit=\" uttr\")\n",
        "\n",
        "\n",
        "\n",
        "  for i, batch in enumerate(dataloader):\n",
        "    with torch.no_grad():\n",
        "      loss, accuracy = model_fn(batch, model, criterion, device)\n",
        "      running_loss += loss.item()\n",
        "      running_accuracy += accuracy.item()\n",
        "\n",
        "    pbar.update(dataloader.batch_size)\n",
        "    pbar.set_postfix(\n",
        "      loss=f\"{running_loss / (i+1):.2f}\",\n",
        "      accuracy=f\"{running_accuracy / (i+1):.2f}\",\n",
        "    )\n",
        "\n",
        "  pbar.close()\n",
        "  model.train()\n",
        "\n",
        "  #record for visualization\n",
        "  valid_loss_record.append(running_loss / len(dataloader))\n",
        "  valid_acc_record.append(running_accuracy / len(dataloader))  \n",
        "\n",
        "  return running_accuracy / len(dataloader)\n"
      ]
    },
    {
      "cell_type": "markdown",
      "metadata": {
        "id": "noHXyal5p1W5"
      },
      "source": [
        "# Main function"
      ]
    },
    {
      "cell_type": "code",
      "execution_count": 10,
      "metadata": {
        "id": "chRQE7oYtw62"
      },
      "outputs": [
        {
          "name": "stdout",
          "output_type": "stream",
          "text": [
            "[Info]: Use cuda now!\n",
            "[Info]: Finish loading data!\n",
            "[Info]: Finish creating model!\n"
          ]
        },
        {
          "name": "stderr",
          "output_type": "stream",
          "text": [
            "Train: 100% 2000/2000 [01:31<00:00, 21.83 step/s, accuracy=0.09, loss=4.08, step=2000]\n",
            "Valid: 100% 6944/6944 [00:03<00:00, 1922.24 uttr/s, accuracy=0.21, loss=3.93]\n",
            "Train: 100% 2000/2000 [01:33<00:00, 21.30 step/s, accuracy=0.44, loss=2.91, step=4000]\n",
            "Valid: 100% 6944/6944 [00:03<00:00, 1907.80 uttr/s, accuracy=0.36, loss=2.96]\n",
            "Train: 100% 2000/2000 [01:30<00:00, 21.99 step/s, accuracy=0.41, loss=2.67, step=6000]\n",
            "Valid: 100% 6944/6944 [00:03<00:00, 1924.55 uttr/s, accuracy=0.46, loss=2.47]\n",
            "Train: 100% 2000/2000 [01:34<00:00, 21.22 step/s, accuracy=0.50, loss=2.03, step=8000]\n",
            "Valid: 100% 6944/6944 [00:03<00:00, 1954.35 uttr/s, accuracy=0.53, loss=2.10]\n",
            "Train: 100% 2000/2000 [01:31<00:00, 21.96 step/s, accuracy=0.47, loss=1.84, step=1e+4]\n",
            "Valid: 100% 6944/6944 [00:03<00:00, 1935.52 uttr/s, accuracy=0.57, loss=1.87]\n",
            "Train:   0% 4/2000 [00:00<02:44, 12.15 step/s, accuracy=0.62, loss=1.43, step=1e+4]"
          ]
        },
        {
          "name": "stdout",
          "output_type": "stream",
          "text": [
            "Step 10000, best model saved. (accuracy=0.5701)\n"
          ]
        },
        {
          "name": "stderr",
          "output_type": "stream",
          "text": [
            "Train: 100% 2000/2000 [01:34<00:00, 21.18 step/s, accuracy=0.62, loss=1.27, step=12000]\n",
            "Valid: 100% 6944/6944 [00:03<00:00, 1943.55 uttr/s, accuracy=0.63, loss=1.60]\n",
            "Train: 100% 2000/2000 [01:31<00:00, 21.84 step/s, accuracy=0.66, loss=1.27, step=14000]\n",
            "Valid: 100% 6944/6944 [00:03<00:00, 1914.63 uttr/s, accuracy=0.66, loss=1.46]\n",
            "Train: 100% 2000/2000 [01:33<00:00, 21.33 step/s, accuracy=0.84, loss=0.89, step=16000]\n",
            "Valid: 100% 6944/6944 [00:03<00:00, 1956.14 uttr/s, accuracy=0.68, loss=1.37]\n",
            "Train: 100% 2000/2000 [01:31<00:00, 21.76 step/s, accuracy=0.78, loss=0.93, step=18000]\n",
            "Valid: 100% 6944/6944 [00:03<00:00, 1906.42 uttr/s, accuracy=0.70, loss=1.26]\n",
            "Train: 100% 2000/2000 [01:34<00:00, 21.22 step/s, accuracy=0.78, loss=1.30, step=2e+4] \n",
            "Valid: 100% 6944/6944 [00:03<00:00, 1873.85 uttr/s, accuracy=0.72, loss=1.20]\n",
            "Train:   0% 4/2000 [00:00<03:05, 10.79 step/s, accuracy=0.88, loss=0.50, step=2e+4]"
          ]
        },
        {
          "name": "stdout",
          "output_type": "stream",
          "text": [
            "Step 20000, best model saved. (accuracy=0.7173)\n"
          ]
        },
        {
          "name": "stderr",
          "output_type": "stream",
          "text": [
            "Train: 100% 2000/2000 [01:33<00:00, 21.47 step/s, accuracy=0.78, loss=0.83, step=22000]\n",
            "Valid: 100% 6944/6944 [00:03<00:00, 1958.55 uttr/s, accuracy=0.73, loss=1.14]\n",
            "Train: 100% 2000/2000 [01:34<00:00, 21.23 step/s, accuracy=0.91, loss=0.64, step=24000]\n",
            "Valid: 100% 6944/6944 [00:03<00:00, 1919.55 uttr/s, accuracy=0.75, loss=1.08]\n",
            "Train: 100% 2000/2000 [01:32<00:00, 21.69 step/s, accuracy=0.94, loss=0.50, step=26000]\n",
            "Valid: 100% 6944/6944 [00:03<00:00, 1914.04 uttr/s, accuracy=0.77, loss=0.99]\n",
            "Train: 100% 2000/2000 [01:33<00:00, 21.44 step/s, accuracy=0.88, loss=0.78, step=28000]\n",
            "Valid: 100% 6944/6944 [00:03<00:00, 1924.17 uttr/s, accuracy=0.77, loss=0.94]\n",
            "Train: 100% 2000/2000 [01:32<00:00, 21.73 step/s, accuracy=0.84, loss=0.73, step=3e+4] \n",
            "Valid: 100% 6944/6944 [00:03<00:00, 1880.73 uttr/s, accuracy=0.77, loss=0.96]\n",
            "Train:   0% 4/2000 [00:00<02:43, 12.21 step/s, accuracy=0.78, loss=1.09, step=3e+4]"
          ]
        },
        {
          "name": "stdout",
          "output_type": "stream",
          "text": [
            "Step 30000, best model saved. (accuracy=0.7733)\n"
          ]
        },
        {
          "name": "stderr",
          "output_type": "stream",
          "text": [
            "Train: 100% 2000/2000 [01:33<00:00, 21.42 step/s, accuracy=0.81, loss=0.72, step=32000]\n",
            "Valid: 100% 6944/6944 [00:03<00:00, 1941.46 uttr/s, accuracy=0.79, loss=0.90]\n",
            "Train: 100% 2000/2000 [01:32<00:00, 21.68 step/s, accuracy=0.84, loss=0.63, step=34000]\n",
            "Valid: 100% 6944/6944 [00:03<00:00, 1878.35 uttr/s, accuracy=0.80, loss=0.86]\n",
            "Train: 100% 2000/2000 [01:33<00:00, 21.50 step/s, accuracy=0.94, loss=0.34, step=36000]\n",
            "Valid: 100% 6944/6944 [00:03<00:00, 1961.14 uttr/s, accuracy=0.80, loss=0.86]\n",
            "Train: 100% 2000/2000 [01:32<00:00, 21.51 step/s, accuracy=0.84, loss=0.43, step=38000]\n",
            "Valid: 100% 6944/6944 [00:03<00:00, 1917.24 uttr/s, accuracy=0.81, loss=0.82]\n",
            "Train: 100% 2000/2000 [01:32<00:00, 21.53 step/s, accuracy=0.91, loss=0.35, step=4e+4] \n",
            "Valid: 100% 6944/6944 [00:03<00:00, 1980.84 uttr/s, accuracy=0.81, loss=0.80]\n",
            "Train:   0% 4/2000 [00:00<02:44, 12.11 step/s, accuracy=0.97, loss=0.20, step=4e+4]"
          ]
        },
        {
          "name": "stdout",
          "output_type": "stream",
          "text": [
            "Step 40000, best model saved. (accuracy=0.8144)\n"
          ]
        },
        {
          "name": "stderr",
          "output_type": "stream",
          "text": [
            "Train: 100% 2000/2000 [01:33<00:00, 21.41 step/s, accuracy=0.88, loss=0.33, step=42000]\n",
            "Valid: 100% 6944/6944 [00:03<00:00, 1948.19 uttr/s, accuracy=0.81, loss=0.84]\n",
            "Train: 100% 2000/2000 [01:32<00:00, 21.60 step/s, accuracy=0.84, loss=0.53, step=44000]\n",
            "Valid: 100% 6944/6944 [00:03<00:00, 1917.82 uttr/s, accuracy=0.83, loss=0.74]\n",
            "Train: 100% 2000/2000 [01:32<00:00, 21.51 step/s, accuracy=0.91, loss=0.23, step=46000]\n",
            "Valid: 100% 6944/6944 [00:03<00:00, 1960.11 uttr/s, accuracy=0.83, loss=0.75]\n",
            "Train: 100% 2000/2000 [01:32<00:00, 21.62 step/s, accuracy=0.84, loss=0.45, step=48000]\n",
            "Valid: 100% 6944/6944 [00:03<00:00, 1919.88 uttr/s, accuracy=0.83, loss=0.74]\n",
            "Train: 100% 2000/2000 [01:33<00:00, 21.42 step/s, accuracy=0.94, loss=0.16, step=5e+4] \n",
            "Valid: 100% 6944/6944 [00:03<00:00, 1927.32 uttr/s, accuracy=0.84, loss=0.69]\n",
            "Train:   0% 4/2000 [00:00<02:44, 12.10 step/s, accuracy=0.97, loss=0.08, step=5e+4]"
          ]
        },
        {
          "name": "stdout",
          "output_type": "stream",
          "text": [
            "Step 50000, best model saved. (accuracy=0.8426)\n"
          ]
        },
        {
          "name": "stderr",
          "output_type": "stream",
          "text": [
            "Train: 100% 2000/2000 [01:31<00:00, 21.80 step/s, accuracy=0.91, loss=0.21, step=52000]\n",
            "Valid: 100% 6944/6944 [00:03<00:00, 1883.30 uttr/s, accuracy=0.85, loss=0.68]\n",
            "Train: 100% 2000/2000 [01:33<00:00, 21.49 step/s, accuracy=1.00, loss=0.03, step=54000]\n",
            "Valid: 100% 6944/6944 [00:03<00:00, 1903.05 uttr/s, accuracy=0.85, loss=0.68]\n",
            "Train: 100% 2000/2000 [01:32<00:00, 21.56 step/s, accuracy=0.97, loss=0.19, step=56000]\n",
            "Valid: 100% 6944/6944 [00:03<00:00, 1929.11 uttr/s, accuracy=0.85, loss=0.66]\n",
            "Train: 100% 2000/2000 [01:33<00:00, 21.37 step/s, accuracy=0.94, loss=0.16, step=58000]\n",
            "Valid: 100% 6944/6944 [00:03<00:00, 1887.92 uttr/s, accuracy=0.86, loss=0.64]\n",
            "Train: 100% 2000/2000 [01:31<00:00, 21.78 step/s, accuracy=0.97, loss=0.16, step=6e+4] \n",
            "Valid: 100% 6944/6944 [00:03<00:00, 1973.50 uttr/s, accuracy=0.86, loss=0.64]\n",
            "Train:   0% 4/2000 [00:00<03:10, 10.47 step/s, accuracy=0.97, loss=0.15, step=6e+4]"
          ]
        },
        {
          "name": "stdout",
          "output_type": "stream",
          "text": [
            "Step 60000, best model saved. (accuracy=0.8571)\n"
          ]
        },
        {
          "name": "stderr",
          "output_type": "stream",
          "text": [
            "Train: 100% 2000/2000 [01:34<00:00, 21.17 step/s, accuracy=0.91, loss=0.14, step=62000]\n",
            "Valid: 100% 6944/6944 [00:03<00:00, 1968.51 uttr/s, accuracy=0.86, loss=0.61]\n",
            "Train: 100% 2000/2000 [01:31<00:00, 21.76 step/s, accuracy=0.94, loss=0.24, step=64000]\n",
            "Valid: 100% 6944/6944 [00:03<00:00, 1949.48 uttr/s, accuracy=0.86, loss=0.61]\n",
            "Train: 100% 2000/2000 [01:33<00:00, 21.30 step/s, accuracy=1.00, loss=0.04, step=66000]\n",
            "Valid: 100% 6944/6944 [00:03<00:00, 1913.21 uttr/s, accuracy=0.87, loss=0.59]\n",
            "Train: 100% 2000/2000 [01:31<00:00, 21.79 step/s, accuracy=0.97, loss=0.12, step=68000]\n",
            "Valid: 100% 6944/6944 [00:03<00:00, 1960.05 uttr/s, accuracy=0.87, loss=0.61]\n",
            "Train: 100% 2000/2000 [01:35<00:00, 21.03 step/s, accuracy=0.94, loss=0.25, step=7e+4] \n",
            "Valid: 100% 6944/6944 [00:03<00:00, 1870.13 uttr/s, accuracy=0.87, loss=0.57]\n",
            "Train:   0% 4/2000 [00:00<03:04, 10.79 step/s, accuracy=0.94, loss=0.21, step=7e+4]"
          ]
        },
        {
          "name": "stdout",
          "output_type": "stream",
          "text": [
            "Step 70000, best model saved. (accuracy=0.8746)\n"
          ]
        },
        {
          "name": "stderr",
          "output_type": "stream",
          "text": [
            "Train: 100% 2000/2000 [01:31<00:00, 21.95 step/s, accuracy=1.00, loss=0.05, step=72000]\n",
            "Valid: 100% 6944/6944 [00:03<00:00, 2034.87 uttr/s, accuracy=0.87, loss=0.61]\n",
            "Train: 100% 2000/2000 [01:33<00:00, 21.28 step/s, accuracy=1.00, loss=0.04, step=74000]\n",
            "Valid: 100% 6944/6944 [00:03<00:00, 1879.40 uttr/s, accuracy=0.88, loss=0.56]\n",
            "Train: 100% 2000/2000 [01:30<00:00, 22.01 step/s, accuracy=0.97, loss=0.11, step=76000]\n",
            "Valid: 100% 6944/6944 [00:03<00:00, 1967.81 uttr/s, accuracy=0.87, loss=0.58]\n",
            "Train: 100% 2000/2000 [01:34<00:00, 21.09 step/s, accuracy=0.97, loss=0.18, step=78000]\n",
            "Valid: 100% 6944/6944 [00:03<00:00, 1935.03 uttr/s, accuracy=0.88, loss=0.54]\n",
            "Train: 100% 2000/2000 [01:30<00:00, 22.07 step/s, accuracy=1.00, loss=0.04, step=8e+4] \n",
            "Valid: 100% 6944/6944 [00:03<00:00, 1925.82 uttr/s, accuracy=0.88, loss=0.54]\n",
            "Train:   0% 4/2000 [00:00<03:15, 10.20 step/s, accuracy=0.97, loss=0.09, step=8e+4]"
          ]
        },
        {
          "name": "stdout",
          "output_type": "stream",
          "text": [
            "Step 80000, best model saved. (accuracy=0.8821)\n"
          ]
        },
        {
          "name": "stderr",
          "output_type": "stream",
          "text": [
            "Train: 100% 2000/2000 [01:36<00:00, 20.76 step/s, accuracy=0.94, loss=0.12, step=82000]\n",
            "Valid: 100% 6944/6944 [00:03<00:00, 1930.75 uttr/s, accuracy=0.88, loss=0.55]\n",
            "Train: 100% 2000/2000 [01:32<00:00, 21.69 step/s, accuracy=1.00, loss=0.02, step=84000]\n",
            "Valid: 100% 6944/6944 [00:03<00:00, 1855.90 uttr/s, accuracy=0.89, loss=0.51]\n",
            "Train: 100% 2000/2000 [01:34<00:00, 21.07 step/s, accuracy=1.00, loss=0.16, step=86000]\n",
            "Valid: 100% 6944/6944 [00:03<00:00, 1921.13 uttr/s, accuracy=0.89, loss=0.53]\n",
            "Train: 100% 2000/2000 [01:32<00:00, 21.73 step/s, accuracy=1.00, loss=0.01, step=88000]\n",
            "Valid: 100% 6944/6944 [00:03<00:00, 1889.17 uttr/s, accuracy=0.88, loss=0.52]\n",
            "Train: 100% 2000/2000 [01:35<00:00, 20.91 step/s, accuracy=0.97, loss=0.06, step=9e+4] \n",
            "Valid: 100% 6944/6944 [00:03<00:00, 1948.39 uttr/s, accuracy=0.89, loss=0.52]\n",
            "Train:   0% 4/2000 [00:00<02:44, 12.15 step/s, accuracy=1.00, loss=0.06, step=9e+4]"
          ]
        },
        {
          "name": "stdout",
          "output_type": "stream",
          "text": [
            "Step 90000, best model saved. (accuracy=0.8903)\n"
          ]
        },
        {
          "name": "stderr",
          "output_type": "stream",
          "text": [
            "Train: 100% 2000/2000 [01:31<00:00, 21.76 step/s, accuracy=0.97, loss=0.06, step=92000]\n",
            "Valid: 100% 6944/6944 [00:03<00:00, 1906.41 uttr/s, accuracy=0.89, loss=0.50]\n",
            "Train: 100% 2000/2000 [01:34<00:00, 21.07 step/s, accuracy=1.00, loss=0.04, step=94000]\n",
            "Valid: 100% 6944/6944 [00:03<00:00, 1921.67 uttr/s, accuracy=0.89, loss=0.51]\n",
            "Train: 100% 2000/2000 [01:32<00:00, 21.60 step/s, accuracy=1.00, loss=0.06, step=96000]\n",
            "Valid: 100% 6944/6944 [00:03<00:00, 1891.92 uttr/s, accuracy=0.89, loss=0.51]\n",
            "Train: 100% 2000/2000 [01:33<00:00, 21.29 step/s, accuracy=1.00, loss=0.01, step=98000]\n",
            "Valid: 100% 6944/6944 [00:03<00:00, 1901.89 uttr/s, accuracy=0.89, loss=0.50]\n",
            "Train: 100% 2000/2000 [01:31<00:00, 21.92 step/s, accuracy=0.94, loss=0.20, step=1e+5] \n",
            "Valid: 100% 6944/6944 [00:03<00:00, 1872.07 uttr/s, accuracy=0.89, loss=0.51]\n",
            "Train:   0% 0/2000 [00:00<?, ? step/s]"
          ]
        },
        {
          "name": "stdout",
          "output_type": "stream",
          "text": [
            "Step 100000, best model saved. (accuracy=0.8903)\n"
          ]
        },
        {
          "name": "stderr",
          "output_type": "stream",
          "text": [
            "\n"
          ]
        }
      ],
      "source": [
        "from tqdm import tqdm\n",
        "\n",
        "import torch\n",
        "import torch.nn as nn\n",
        "from torch.optim import AdamW\n",
        "from torch.utils.data import DataLoader, random_split\n",
        "\n",
        "#record for visualization\n",
        "train_loss_record = []\n",
        "train_acc_record = []\n",
        "\n",
        "def parse_args():\n",
        "  \"\"\"arguments\"\"\"\n",
        "  config = {\n",
        "    \"data_dir\": \"./Dataset\",\n",
        "    \"save_path\": \"model.ckpt\",\n",
        "    \"batch_size\": 32,\n",
        "    \"n_workers\": 24,\n",
        "    \"valid_steps\": 2000,\n",
        "    \"warmup_steps\": 1000,\n",
        "    \"save_steps\": 10000,\n",
        "    \"total_steps\": 100000, #default : 70000\n",
        "  }\n",
        "\n",
        "  return config\n",
        "\n",
        "\n",
        "def main(\n",
        "  data_dir,\n",
        "  save_path,\n",
        "  batch_size,\n",
        "  n_workers,\n",
        "  valid_steps,\n",
        "  warmup_steps,\n",
        "  total_steps,\n",
        "  save_steps,\n",
        "):\n",
        "  \"\"\"Main function.\"\"\"\n",
        "  device = torch.device(\"cuda\" if torch.cuda.is_available() else \"cpu\")\n",
        "  print(f\"[Info]: Use {device} now!\")\n",
        "\n",
        "  train_loader, valid_loader, speaker_num = get_dataloader(data_dir, batch_size, n_workers)\n",
        "  train_iterator = iter(train_loader)\n",
        "  print(f\"[Info]: Finish loading data!\",flush = True)\n",
        "\n",
        "  model = Classifier(n_spks=speaker_num).to(device)\n",
        "  criterion = nn.CrossEntropyLoss()\n",
        "  optimizer = AdamW(model.parameters(), lr=1e-3)\n",
        "  scheduler = get_cosine_schedule_with_warmup(optimizer, warmup_steps, total_steps)\n",
        "  print(f\"[Info]: Finish creating model!\",flush = True)\n",
        "\n",
        "  best_accuracy = -1.0\n",
        "  best_state_dict = None\n",
        "\n",
        "\n",
        "  pbar = tqdm(total=valid_steps, ncols=0, desc=\"Train\", unit=\" step\")\n",
        "\n",
        "  for step in range(total_steps):\n",
        "    # Get data\n",
        "    try:\n",
        "      batch = next(train_iterator)\n",
        "    except StopIteration:\n",
        "      train_iterator = iter(train_loader)\n",
        "      batch = next(train_iterator)\n",
        "\n",
        "    loss, accuracy = model_fn(batch, model, criterion, device)\n",
        "    batch_loss = loss.item()\n",
        "    batch_accuracy = accuracy.item()\n",
        "    \n",
        "    train_loss_record.append(batch_loss)\n",
        "    train_acc_record.append(batch_accuracy)\n",
        "    \n",
        "    # Updata model\n",
        "    loss.backward()\n",
        "    optimizer.step()\n",
        "    scheduler.step()\n",
        "    optimizer.zero_grad()\n",
        "    \n",
        "    # Log\n",
        "    pbar.update()\n",
        "    pbar.set_postfix(\n",
        "      loss=f\"{batch_loss:.2f}\",\n",
        "      accuracy=f\"{batch_accuracy:.2f}\",\n",
        "      step=step + 1,\n",
        "    )\n",
        "\n",
        "    # Do validation every valid_step\n",
        "    if (step + 1) % valid_steps == 0:\n",
        "      pbar.close()\n",
        "\n",
        "      valid_accuracy = valid(valid_loader, model, criterion, device)\n",
        "\n",
        "      # keep the best model\n",
        "      if valid_accuracy > best_accuracy:\n",
        "        best_accuracy = valid_accuracy\n",
        "        best_state_dict = model.state_dict()\n",
        "\n",
        "      pbar = tqdm(total=valid_steps, ncols=0, desc=\"Train\", unit=\" step\")\n",
        "\n",
        "    # Save the best model so far.\n",
        "    if (step + 1) % save_steps == 0 and best_state_dict is not None:\n",
        "      torch.save(best_state_dict, save_path)\n",
        "      pbar.write(f\"Step {step + 1}, best model saved. (accuracy={best_accuracy:.4f})\")\n",
        "\n",
        "  pbar.close()\n",
        "\n",
        "\n",
        "if __name__ == \"__main__\":\n",
        "  main(**parse_args())\n"
      ]
    },
    {
      "cell_type": "markdown",
      "metadata": {
        "id": "0R2rx3AyHpQ-"
      },
      "source": [
        "# Inference"
      ]
    },
    {
      "cell_type": "markdown",
      "metadata": {
        "id": "pSuI3WY9Fz78"
      },
      "source": [
        "## Dataset of inference"
      ]
    },
    {
      "cell_type": "code",
      "execution_count": 11,
      "metadata": {
        "id": "4evns0055Dsx"
      },
      "outputs": [],
      "source": [
        "import os\n",
        "import json\n",
        "import torch\n",
        "from pathlib import Path\n",
        "from torch.utils.data import Dataset\n",
        "\n",
        "\n",
        "class InferenceDataset(Dataset):\n",
        "  def __init__(self, data_dir):\n",
        "    testdata_path = Path(data_dir) / \"testdata.json\"\n",
        "    metadata = json.load(testdata_path.open())\n",
        "    self.data_dir = data_dir\n",
        "    self.data = metadata[\"utterances\"]\n",
        "\n",
        "  def __len__(self):\n",
        "    return len(self.data)\n",
        "\n",
        "  def __getitem__(self, index):\n",
        "    utterance = self.data[index]\n",
        "    feat_path = utterance[\"feature_path\"]\n",
        "    mel = torch.load(os.path.join(self.data_dir, feat_path))\n",
        "\n",
        "    return feat_path, mel\n",
        "\n",
        "\n",
        "def inference_collate_batch(batch):\n",
        "  \"\"\"Collate a batch of data.\"\"\"\n",
        "  feat_paths, mels = zip(*batch)\n",
        "\n",
        "  return feat_paths, torch.stack(mels)\n"
      ]
    },
    {
      "cell_type": "markdown",
      "metadata": {
        "id": "oAinHBG1GIWv"
      },
      "source": [
        "## Main funcrion of Inference"
      ]
    },
    {
      "cell_type": "code",
      "execution_count": 12,
      "metadata": {
        "id": "yQaTt7VDHoRI"
      },
      "outputs": [
        {
          "name": "stdout",
          "output_type": "stream",
          "text": [
            "[Info]: Use cuda now!\n",
            "[Info]: Finish loading data!\n",
            "[Info]: Finish creating model!\n"
          ]
        },
        {
          "name": "stderr",
          "output_type": "stream",
          "text": [
            "100%|██████████| 6000/6000 [02:27<00:00, 40.61it/s]\n"
          ]
        }
      ],
      "source": [
        "import json\n",
        "import csv\n",
        "from pathlib import Path\n",
        "#from tqdm.notebook import tqdm\n",
        "from tqdm import tqdm as tqdm\n",
        "\n",
        "\n",
        "import torch\n",
        "from torch.utils.data import DataLoader\n",
        "\n",
        "def parse_args():\n",
        "  \"\"\"arguments\"\"\"\n",
        "  config = {\n",
        "    \"data_dir\": \"./Dataset\",\n",
        "    \"model_path\": \"./model.ckpt\",\n",
        "    \"output_path\": \"./output.csv\",\n",
        "  }\n",
        "\n",
        "  return config\n",
        "\n",
        "\n",
        "def main(\n",
        "  data_dir,\n",
        "  model_path,\n",
        "  output_path,\n",
        "):\n",
        "  \"\"\"Main function.\"\"\"\n",
        "  device = torch.device(\"cuda\" if torch.cuda.is_available() else \"cpu\")\n",
        "  print(f\"[Info]: Use {device} now!\")\n",
        "\n",
        "  mapping_path = Path(data_dir) / \"mapping.json\"\n",
        "  mapping = json.load(mapping_path.open())\n",
        "\n",
        "  dataset = InferenceDataset(data_dir)\n",
        "  dataloader = DataLoader(\n",
        "    dataset,\n",
        "    batch_size=1,\n",
        "    shuffle=False,\n",
        "    drop_last=False,\n",
        "    num_workers=8,\n",
        "    collate_fn=inference_collate_batch,\n",
        "  )\n",
        "  print(f\"[Info]: Finish loading data!\",flush = True)\n",
        "\n",
        "  speaker_num = len(mapping[\"id2speaker\"])\n",
        "  model = Classifier(n_spks=speaker_num).to(device)\n",
        "  model.load_state_dict(torch.load(model_path))\n",
        "  model.eval()\n",
        "  print(f\"[Info]: Finish creating model!\",flush = True)\n",
        "\n",
        "  results = [[\"Id\", \"Category\"]]\n",
        "  for feat_paths, mels in tqdm(dataloader):\n",
        "    with torch.no_grad():\n",
        "      mels = mels.to(device)\n",
        "      outs = model(mels)\n",
        "      preds = outs.argmax(1).cpu().numpy()\n",
        "      for feat_path, pred in zip(feat_paths, preds):\n",
        "        results.append([feat_path, mapping[\"id2speaker\"][str(pred)]])\n",
        "  \n",
        "  with open(output_path, 'w', newline='') as csvfile:\n",
        "    writer = csv.writer(csvfile)\n",
        "    writer.writerows(results)\n",
        "\n",
        "\n",
        "if __name__ == \"__main__\":\n",
        "  main(**parse_args())\n"
      ]
    },
    {
      "cell_type": "markdown",
      "metadata": {},
      "source": [
        "## **Visualize Result**"
      ]
    },
    {
      "cell_type": "code",
      "execution_count": 13,
      "metadata": {},
      "outputs": [
        {
          "data": {
            "image/png": "[encoded data removed]",
            "text/plain": [
              "<Figure size 432x288 with 1 Axes>"
            ]
          },
          "metadata": {
            "needs_background": "light"
          },
          "output_type": "display_data"
        }
      ],
      "source": [
        "import matplotlib.pyplot as plt\n",
        "import numpy as np\n",
        "\n",
        "x = np.arange(len(train_acc_record))\n",
        "train_acc = torch.tensor(train_acc_record, device='cpu')\n",
        "train_loss = torch.tensor(train_loss_record, device='cpu')\n",
        "\n",
        "plt.title(\"Learning curve of training\")\n",
        "plt.xlabel(\"steps\")\n",
        "plt.plot(x, train_acc, color=\"blue\", label=\"Train Acc\")\n",
        "plt.plot(x, train_loss, color=\"red\", label=\"Train Loss\")\n",
        "plt.legend(loc=\"best\")\n",
        "plt.show()"
      ]
    },
    {
      "cell_type": "code",
      "execution_count": 14,
      "metadata": {},
      "outputs": [
        {
          "data": {
            "image/png": "[encoded data removed]",
            "text/plain": [
              "<Figure size 432x288 with 1 Axes>"
            ]
          },
          "metadata": {
            "needs_background": "light"
          },
          "output_type": "display_data"
        }
      ],
      "source": [
        "x = np.arange(len(valid_acc_record))\n",
        "valid_acc = torch.tensor(valid_acc_record, device='cpu')\n",
        "valid_loss = torch.tensor(valid_loss_record, device='cpu')\n",
        "\n",
        "plt.title(\"Learning curve of validation\")\n",
        "plt.plot(x, valid_acc, color=\"blue\", label=\"Valid Acc\")\n",
        "plt.plot(x, valid_loss, color=\"red\", label=\"Valid Loss\")\n",
        "plt.legend(loc=\"best\")\n",
        "plt.show()"
      ]
    },
    {
      "cell_type": "code",
      "execution_count": 15,
      "metadata": {},
      "outputs": [],
      "source": [
        "import gc\n",
        "import torch\n",
        "gc.collect()\n",
        "torch.cuda.empty_cache()"
      ]
    }
  ],
  "metadata": {
    "accelerator": "GPU",
    "colab": {
      "collapsed_sections": [],
      "name": "HW04.ipynb",
      "provenance": [],
      "toc_visible": true
    },
    "kernelspec": {
      "display_name": "Python 3",
      "name": "python3"
    },
    "language_info": {
      "codemirror_mode": {
        "name": "ipython",
        "version": 3
      },
      "file_extension": ".py",
      "mimetype": "text/x-python",
      "name": "python",
      "nbconvert_exporter": "python",
      "pygments_lexer": "ipython3",
      "version": "3.8.10"
    }
  },
  "nbformat": 4,
  "nbformat_minor": 0
}
